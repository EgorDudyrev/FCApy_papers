{
 "cells": [
  {
   "cell_type": "code",
   "execution_count": 1,
   "metadata": {},
   "outputs": [
    {
     "name": "stdout",
     "output_type": "stream",
     "text": [
      "Obtaining file:///home/egor/Documents/FCApy\n",
      "Installing collected packages: fcapy\n",
      "  Attempting uninstall: fcapy\n",
      "    Found existing installation: fcapy 0.1.2\n",
      "    Uninstalling fcapy-0.1.2:\n",
      "      Successfully uninstalled fcapy-0.1.2\n",
      "  Running setup.py develop for fcapy\n",
      "Successfully installed fcapy-0.1.2\n",
      "\u001b[33mWARNING: You are using pip version 21.1.2; however, version 21.1.3 is available.\n",
      "You should consider upgrading via the '/home/egor/anaconda3/bin/python -m pip install --upgrade pip' command.\u001b[0m\n"
     ]
    }
   ],
   "source": [
    "!pip install -e ../.."
   ]
  },
  {
   "cell_type": "code",
   "execution_count": 2,
   "metadata": {},
   "outputs": [],
   "source": [
    "import numpy as np\n",
    "import pandas as pd\n",
    "import matplotlib.pyplot as plt\n",
    "\n",
    "import re"
   ]
  },
  {
   "cell_type": "code",
   "execution_count": 3,
   "metadata": {},
   "outputs": [],
   "source": [
    "from fcapy.context import FormalContext\n",
    "from fcapy.lattice import ConceptLattice\n",
    "from fcapy.visualizer import ConceptLatticeVisualizer, POSetVisualizer"
   ]
  },
  {
   "cell_type": "code",
   "execution_count": 4,
   "metadata": {},
   "outputs": [
    {
     "data": {
      "text/html": [
       "<style>.container { width:95% !important; }</style>"
      ],
      "text/plain": [
       "<IPython.core.display.HTML object>"
      ]
     },
     "metadata": {},
     "output_type": "display_data"
    }
   ],
   "source": [
    "from IPython.core.display import display, HTML\n",
    "display(HTML(\"<style>.container { width:95% !important; }</style>\"))"
   ]
  },
  {
   "cell_type": "code",
   "execution_count": 5,
   "metadata": {},
   "outputs": [],
   "source": [
    "import decision_tree_structure as dts"
   ]
  },
  {
   "cell_type": "markdown",
   "metadata": {},
   "source": [
    "# Motivation"
   ]
  },
  {
   "cell_type": "markdown",
   "metadata": {},
   "source": [
    "# Decision Trees to construct a lattice of concepts"
   ]
  },
  {
   "cell_type": "markdown",
   "metadata": {},
   "source": [
    "## Running Example"
   ]
  },
  {
   "cell_type": "markdown",
   "metadata": {},
   "source": [
    "Load the data"
   ]
  },
  {
   "cell_type": "code",
   "execution_count": 6,
   "metadata": {},
   "outputs": [
    {
     "data": {
      "text/html": [
       "<div>\n",
       "<style scoped>\n",
       "    .dataframe tbody tr th:only-of-type {\n",
       "        vertical-align: middle;\n",
       "    }\n",
       "\n",
       "    .dataframe tbody tr th {\n",
       "        vertical-align: top;\n",
       "    }\n",
       "\n",
       "    .dataframe thead th {\n",
       "        text-align: right;\n",
       "    }\n",
       "</style>\n",
       "<table border=\"1\" class=\"dataframe\">\n",
       "  <thead>\n",
       "    <tr style=\"text-align: right;\">\n",
       "      <th></th>\n",
       "      <th>color_is_yellow</th>\n",
       "      <th>color_is_green</th>\n",
       "      <th>color_is_blue</th>\n",
       "      <th>color_is_white</th>\n",
       "      <th>form_is_round</th>\n",
       "      <th>form_is_oval</th>\n",
       "      <th>form_is_cubic</th>\n",
       "      <th>firm</th>\n",
       "      <th>smooth</th>\n",
       "      <th>fruit</th>\n",
       "    </tr>\n",
       "  </thead>\n",
       "  <tbody>\n",
       "    <tr>\n",
       "      <th>apple</th>\n",
       "      <td>True</td>\n",
       "      <td>False</td>\n",
       "      <td>False</td>\n",
       "      <td>False</td>\n",
       "      <td>True</td>\n",
       "      <td>False</td>\n",
       "      <td>False</td>\n",
       "      <td>False</td>\n",
       "      <td>True</td>\n",
       "      <td>True</td>\n",
       "    </tr>\n",
       "    <tr>\n",
       "      <th>grapefruit</th>\n",
       "      <td>True</td>\n",
       "      <td>False</td>\n",
       "      <td>False</td>\n",
       "      <td>False</td>\n",
       "      <td>True</td>\n",
       "      <td>False</td>\n",
       "      <td>False</td>\n",
       "      <td>False</td>\n",
       "      <td>False</td>\n",
       "      <td>True</td>\n",
       "    </tr>\n",
       "    <tr>\n",
       "      <th>kiwi</th>\n",
       "      <td>False</td>\n",
       "      <td>True</td>\n",
       "      <td>False</td>\n",
       "      <td>False</td>\n",
       "      <td>False</td>\n",
       "      <td>True</td>\n",
       "      <td>False</td>\n",
       "      <td>False</td>\n",
       "      <td>False</td>\n",
       "      <td>True</td>\n",
       "    </tr>\n",
       "    <tr>\n",
       "      <th>plum</th>\n",
       "      <td>False</td>\n",
       "      <td>False</td>\n",
       "      <td>True</td>\n",
       "      <td>False</td>\n",
       "      <td>False</td>\n",
       "      <td>True</td>\n",
       "      <td>False</td>\n",
       "      <td>False</td>\n",
       "      <td>True</td>\n",
       "      <td>True</td>\n",
       "    </tr>\n",
       "    <tr>\n",
       "      <th>toy cube</th>\n",
       "      <td>False</td>\n",
       "      <td>True</td>\n",
       "      <td>False</td>\n",
       "      <td>False</td>\n",
       "      <td>False</td>\n",
       "      <td>False</td>\n",
       "      <td>True</td>\n",
       "      <td>True</td>\n",
       "      <td>True</td>\n",
       "      <td>False</td>\n",
       "    </tr>\n",
       "    <tr>\n",
       "      <th>egg</th>\n",
       "      <td>False</td>\n",
       "      <td>False</td>\n",
       "      <td>False</td>\n",
       "      <td>True</td>\n",
       "      <td>False</td>\n",
       "      <td>True</td>\n",
       "      <td>False</td>\n",
       "      <td>True</td>\n",
       "      <td>True</td>\n",
       "      <td>False</td>\n",
       "    </tr>\n",
       "    <tr>\n",
       "      <th>tennis ball</th>\n",
       "      <td>False</td>\n",
       "      <td>False</td>\n",
       "      <td>False</td>\n",
       "      <td>True</td>\n",
       "      <td>True</td>\n",
       "      <td>False</td>\n",
       "      <td>False</td>\n",
       "      <td>False</td>\n",
       "      <td>False</td>\n",
       "      <td>False</td>\n",
       "    </tr>\n",
       "    <tr>\n",
       "      <th>mango</th>\n",
       "      <td>False</td>\n",
       "      <td>True</td>\n",
       "      <td>False</td>\n",
       "      <td>False</td>\n",
       "      <td>False</td>\n",
       "      <td>True</td>\n",
       "      <td>False</td>\n",
       "      <td>False</td>\n",
       "      <td>True</td>\n",
       "      <td>True</td>\n",
       "    </tr>\n",
       "  </tbody>\n",
       "</table>\n",
       "</div>"
      ],
      "text/plain": [
       "             color_is_yellow  color_is_green  color_is_blue  color_is_white  \\\n",
       "apple                   True           False          False           False   \n",
       "grapefruit              True           False          False           False   \n",
       "kiwi                   False            True          False           False   \n",
       "plum                   False           False           True           False   \n",
       "toy cube               False            True          False           False   \n",
       "egg                    False           False          False            True   \n",
       "tennis ball            False           False          False            True   \n",
       "mango                  False            True          False           False   \n",
       "\n",
       "             form_is_round  form_is_oval  form_is_cubic   firm  smooth  fruit  \n",
       "apple                 True         False          False  False    True   True  \n",
       "grapefruit            True         False          False  False   False   True  \n",
       "kiwi                 False          True          False  False   False   True  \n",
       "plum                 False          True          False  False    True   True  \n",
       "toy cube             False         False           True   True    True  False  \n",
       "egg                  False          True          False   True    True  False  \n",
       "tennis ball           True         False          False  False   False  False  \n",
       "mango                False          True          False  False    True   True  "
      ]
     },
     "execution_count": 6,
     "metadata": {},
     "output_type": "execute_result"
    }
   ],
   "source": [
    "K = FormalContext.read_csv('../../data/mango_bin.csv')\n",
    "K_df = K.to_pandas()\n",
    "K_df = K_df[['color_is_yellow', 'color_is_green', 'color_is_blue', 'color_is_white', 'form_is_round', 'form_is_oval', 'form_is_cubic', 'firm', 'smooth', 'fruit']]\n",
    "K_df"
   ]
  },
  {
   "cell_type": "code",
   "execution_count": 7,
   "metadata": {},
   "outputs": [],
   "source": [
    "K_df.columns = pd.MultiIndex.from_tuples([f.split('_is_') if '_is_' in f else (f, '') for f in K_df.columns])\n",
    "K_df = K_df.replace({True: 'X', False:''})\n",
    "K_df['fruit'] = K_df['fruit'].replace({'X':1, '':0})"
   ]
  },
  {
   "cell_type": "code",
   "execution_count": 8,
   "metadata": {},
   "outputs": [
    {
     "name": "stdout",
     "output_type": "stream",
     "text": [
      "\\begin{tabular}{llllllllllr}\n",
      "\\toprule\n",
      "{} & \\multicolumn{4}{l}{color} & \\multicolumn{3}{l}{form} & firm & smooth & fruit \\\\\n",
      "{} & yellow & green & blue & white & round & oval & \\multicolumn{4}{l}{cubic} \\\\\n",
      "\\midrule\n",
      "apple       &      X &       &      &       &     X &      &       &      &      X &     1 \\\\\n",
      "grapefruit  &      X &       &      &       &     X &      &       &      &        &     1 \\\\\n",
      "kiwi        &        &     X &      &       &       &    X &       &      &        &     1 \\\\\n",
      "plum        &        &       &    X &       &       &    X &       &      &      X &     1 \\\\\n",
      "toy cube    &        &     X &      &       &       &      &     X &    X &      X &     0 \\\\\n",
      "egg         &        &       &      &     X &       &    X &       &    X &      X &     0 \\\\\n",
      "tennis ball &        &       &      &     X &     X &      &       &      &        &     0 \\\\\n",
      "mango       &        &     X &      &       &       &    X &       &      &      X &     1 \\\\\n",
      "\\bottomrule\n",
      "\\end{tabular}\n",
      "\n"
     ]
    }
   ],
   "source": [
    "print(K_df.to_latex())"
   ]
  },
  {
   "cell_type": "code",
   "execution_count": 9,
   "metadata": {},
   "outputs": [
    {
     "data": {
      "text/html": [
       "<div>\n",
       "<style scoped>\n",
       "    .dataframe tbody tr th:only-of-type {\n",
       "        vertical-align: middle;\n",
       "    }\n",
       "\n",
       "    .dataframe tbody tr th {\n",
       "        vertical-align: top;\n",
       "    }\n",
       "\n",
       "    .dataframe thead tr th {\n",
       "        text-align: left;\n",
       "    }\n",
       "</style>\n",
       "<table border=\"1\" class=\"dataframe\">\n",
       "  <thead>\n",
       "    <tr>\n",
       "      <th></th>\n",
       "      <th colspan=\"4\" halign=\"left\">color</th>\n",
       "      <th colspan=\"3\" halign=\"left\">form</th>\n",
       "      <th>firm</th>\n",
       "      <th>smooth</th>\n",
       "      <th>fruit</th>\n",
       "    </tr>\n",
       "    <tr>\n",
       "      <th></th>\n",
       "      <th>yellow</th>\n",
       "      <th>green</th>\n",
       "      <th>blue</th>\n",
       "      <th>white</th>\n",
       "      <th>round</th>\n",
       "      <th>oval</th>\n",
       "      <th>cubic</th>\n",
       "      <th></th>\n",
       "      <th></th>\n",
       "      <th></th>\n",
       "    </tr>\n",
       "  </thead>\n",
       "  <tbody>\n",
       "    <tr>\n",
       "      <th>apple</th>\n",
       "      <td>X</td>\n",
       "      <td></td>\n",
       "      <td></td>\n",
       "      <td></td>\n",
       "      <td>X</td>\n",
       "      <td></td>\n",
       "      <td></td>\n",
       "      <td></td>\n",
       "      <td>X</td>\n",
       "      <td>1</td>\n",
       "    </tr>\n",
       "    <tr>\n",
       "      <th>grapefruit</th>\n",
       "      <td>X</td>\n",
       "      <td></td>\n",
       "      <td></td>\n",
       "      <td></td>\n",
       "      <td>X</td>\n",
       "      <td></td>\n",
       "      <td></td>\n",
       "      <td></td>\n",
       "      <td></td>\n",
       "      <td>1</td>\n",
       "    </tr>\n",
       "    <tr>\n",
       "      <th>kiwi</th>\n",
       "      <td></td>\n",
       "      <td>X</td>\n",
       "      <td></td>\n",
       "      <td></td>\n",
       "      <td></td>\n",
       "      <td>X</td>\n",
       "      <td></td>\n",
       "      <td></td>\n",
       "      <td></td>\n",
       "      <td>1</td>\n",
       "    </tr>\n",
       "    <tr>\n",
       "      <th>plum</th>\n",
       "      <td></td>\n",
       "      <td></td>\n",
       "      <td>X</td>\n",
       "      <td></td>\n",
       "      <td></td>\n",
       "      <td>X</td>\n",
       "      <td></td>\n",
       "      <td></td>\n",
       "      <td>X</td>\n",
       "      <td>1</td>\n",
       "    </tr>\n",
       "    <tr>\n",
       "      <th>toy cube</th>\n",
       "      <td></td>\n",
       "      <td>X</td>\n",
       "      <td></td>\n",
       "      <td></td>\n",
       "      <td></td>\n",
       "      <td></td>\n",
       "      <td>X</td>\n",
       "      <td>X</td>\n",
       "      <td>X</td>\n",
       "      <td>0</td>\n",
       "    </tr>\n",
       "    <tr>\n",
       "      <th>egg</th>\n",
       "      <td></td>\n",
       "      <td></td>\n",
       "      <td></td>\n",
       "      <td>X</td>\n",
       "      <td></td>\n",
       "      <td>X</td>\n",
       "      <td></td>\n",
       "      <td>X</td>\n",
       "      <td>X</td>\n",
       "      <td>0</td>\n",
       "    </tr>\n",
       "    <tr>\n",
       "      <th>tennis ball</th>\n",
       "      <td></td>\n",
       "      <td></td>\n",
       "      <td></td>\n",
       "      <td>X</td>\n",
       "      <td>X</td>\n",
       "      <td></td>\n",
       "      <td></td>\n",
       "      <td></td>\n",
       "      <td></td>\n",
       "      <td>0</td>\n",
       "    </tr>\n",
       "    <tr>\n",
       "      <th>mango</th>\n",
       "      <td></td>\n",
       "      <td>X</td>\n",
       "      <td></td>\n",
       "      <td></td>\n",
       "      <td></td>\n",
       "      <td>X</td>\n",
       "      <td></td>\n",
       "      <td></td>\n",
       "      <td>X</td>\n",
       "      <td>1</td>\n",
       "    </tr>\n",
       "  </tbody>\n",
       "</table>\n",
       "</div>"
      ],
      "text/plain": [
       "             color                   form            firm smooth fruit\n",
       "            yellow green blue white round oval cubic                  \n",
       "apple            X                      X                      X     1\n",
       "grapefruit       X                      X                            1\n",
       "kiwi                   X                     X                       1\n",
       "plum                        X                X                 X     1\n",
       "toy cube               X                           X    X      X     0\n",
       "egg                               X          X          X      X     0\n",
       "tennis ball                       X     X                            0\n",
       "mango                  X                     X                 X     1"
      ]
     },
     "execution_count": 9,
     "metadata": {},
     "output_type": "execute_result"
    }
   ],
   "source": [
    "K_df"
   ]
  },
  {
   "cell_type": "code",
   "execution_count": 10,
   "metadata": {},
   "outputs": [],
   "source": [
    "K_X = FormalContext.from_pandas(K.to_pandas().drop('fruit',1))"
   ]
  },
  {
   "cell_type": "markdown",
   "metadata": {},
   "source": [
    "Create dichotomic version of the context"
   ]
  },
  {
   "cell_type": "code",
   "execution_count": 11,
   "metadata": {},
   "outputs": [
    {
     "data": {
      "text/plain": [
       "FormalContext (8 objects, 18 attributes, 72 connections)\n",
       "           |firm|smooth|color_is_yellow|color_is_green|color_is_blue|...|not_color_is_blue|not_color_is_white|not_form_is_round|not_form_is_oval|not_form_is_cubic|\n",
       "apple      |    |     X|              X|              |             |...|                X|                 X|                 |               X|                X|\n",
       "grapefruit |    |      |              X|              |             |...|                X|                 X|                 |               X|                X|\n",
       "kiwi       |    |      |               |             X|             |...|                X|                 X|                X|                |                X|\n",
       "plum       |    |     X|               |              |            X|...|                 |                 X|                X|                |                X|\n",
       "toy cube   |   X|     X|               |             X|             |...|                X|                 X|                X|               X|                 |\n",
       "egg        |   X|     X|               |              |             |...|                X|                  |                X|                |                X|\n",
       "tennis ball|    |      |               |              |             |...|                X|                  |                 |               X|                X|\n",
       "mango      |    |     X|               |             X|             |...|                X|                 X|                X|                |                X|"
      ]
     },
     "execution_count": 11,
     "metadata": {},
     "output_type": "execute_result"
    }
   ],
   "source": [
    "K_X_df = K_X.to_pandas()\n",
    "K_X_dich = K_X_df.copy()\n",
    "for f in list(K_X_dich.columns):\n",
    "    K_X_dich[f'not_{f}'] = ~K_X_dich[f]\n",
    "K_X_dich = FormalContext.from_pandas(K_X_dich)\n",
    "K_X_dich"
   ]
  },
  {
   "cell_type": "code",
   "execution_count": 12,
   "metadata": {},
   "outputs": [],
   "source": [
    "K_X = FormalContext.from_pandas(K_X.to_pandas().iloc[:-1])"
   ]
  },
  {
   "cell_type": "code",
   "execution_count": 13,
   "metadata": {},
   "outputs": [],
   "source": [
    "x = K_X_dich.intention(['mango'])"
   ]
  },
  {
   "cell_type": "code",
   "execution_count": 14,
   "metadata": {},
   "outputs": [],
   "source": [
    "K_X_dich = FormalContext.from_pandas(K_X_dich.to_pandas().iloc[:-1])"
   ]
  },
  {
   "cell_type": "markdown",
   "metadata": {},
   "source": [
    "## Classification rule"
   ]
  },
  {
   "cell_type": "code",
   "execution_count": 15,
   "metadata": {},
   "outputs": [
    {
     "data": {
      "text/plain": [
       "ClassificationRule(['form_is_round'],0.6666666666666666)"
      ]
     },
     "execution_count": 15,
     "metadata": {},
     "output_type": "execute_result"
    }
   ],
   "source": [
    "premise = ['form_is_round']\n",
    "target = K_df.loc[K.extension(premise), 'fruit'].mean()\n",
    "crule = dts.ClassificationRule(premise, target)\n",
    "crule"
   ]
  },
  {
   "cell_type": "markdown",
   "metadata": {},
   "source": [
    "## Decision Tree"
   ]
  },
  {
   "cell_type": "code",
   "execution_count": 16,
   "metadata": {},
   "outputs": [],
   "source": [
    "def premise_verb(premise, draw_emptyset=True):\n",
    "    if len(premise) > 0:\n",
    "        premise = [re.sub(r'[^_]+_is_', '', m) for m in premise]\n",
    "        premise = [m.replace('_', ' ') for m in premise]\n",
    "        premise = ['$\\overline{\\mathrm{'+m[4:].replace(' ','\\ ')+'}}$' if m.startswith('not ') else m for m in premise]\n",
    "    else:\n",
    "        premise = ['$\\emptyset$' if draw_emptyset else ''] \n",
    "    return premise"
   ]
  },
  {
   "cell_type": "code",
   "execution_count": 17,
   "metadata": {},
   "outputs": [],
   "source": [
    "def label_func(el_i, DP, draw_emptyset=True):\n",
    "    el = DP[el_i]\n",
    "    premise = premise_verb(el.premise, draw_emptyset=draw_emptyset)\n",
    "    return '\\n\\n\\n'.join([', '.join(premise), f\"{el.target:.2f}\"])"
   ]
  },
  {
   "cell_type": "code",
   "execution_count": 18,
   "metadata": {},
   "outputs": [],
   "source": [
    "def short_label_func(el_i, DP, draw_emptyset=True, draw_premise_len=True, max_premise_count=3, top_labels=None):\n",
    "    el = DP[el_i]\n",
    "    #premise = premise_verb(el.premise, draw_emptyset=False)\n",
    "    \n",
    "    if top_labels is None:\n",
    "        premise = set(el.premise)\n",
    "        for supel_i in DP.direct_super_elements(el_i):\n",
    "            premise -= set(DP[supel_i].premise)\n",
    "        premise = sorted(premise)\n",
    "    else:\n",
    "        premise = top_labels[el_i]\n",
    "    premise = premise_verb(premise, draw_emptyset=False)\n",
    "    \n",
    "    if len(premise) > 0 and premise!=['']:\n",
    "        premise_str = f\"{len(premise)}: \" if draw_premise_len else \"\"\n",
    "        premise_str += \", \".join(premise[:max_premise_count])\n",
    "        if len(premise_str) > 0 \\\n",
    "            and max_premise_count is not None and len(premise) > max_premise_count:\n",
    "            premise_str += '...'\n",
    "    else:\n",
    "        premise_str = '$\\emptyset$' if draw_emptyset else ''\n",
    "    \n",
    "    return '\\n\\n\\n'.join([premise_str, f\"{el.target:.2f}\"])"
   ]
  },
  {
   "cell_type": "code",
   "execution_count": 19,
   "metadata": {},
   "outputs": [],
   "source": [
    "def short_label_func_concept(c_i, L, max_new_intent_count=3, max_new_extent_count=3, draw_new_intent_len=True, draw_new_extent_len=True, draw_emptyset=True, top_labels=None):\n",
    "    if top_labels is None:\n",
    "        new_intent = L.get_concept_new_intent(c_i)\n",
    "    else:\n",
    "        new_intent = top_labels[c_i]\n",
    "\n",
    "    new_intent = premise_verb(list(new_intent), draw_emptyset)\n",
    "    \n",
    "    if len(new_intent) > 0 and not (len(new_intent)==1 and new_intent[0] == ''):\n",
    "        new_intent_str = f\"{len(new_intent)}: \" if draw_new_intent_len else \"\"\n",
    "        new_intent_str += ', '.join(new_intent[:max_new_intent_count])\n",
    "        if len(new_intent_str) > 0 \\\n",
    "                and max_new_intent_count is not None and len(new_intent) > max_new_intent_count:\n",
    "            new_intent_str += '...'\n",
    "    else:\n",
    "        new_intent_str = ''\n",
    "\n",
    "    new_extent = premise_verb(list(L.get_concept_new_extent(c_i)), draw_emptyset)\n",
    "    if len(new_extent) > 0 and not (len(new_extent)==1 and new_extent[0] == ''):\n",
    "        new_extent_str = f\"{len(new_extent)}: \" if draw_new_extent_len else \"\"\n",
    "        new_extent_str += ', '.join(new_extent[:max_new_extent_count])\n",
    "        if len(new_extent_str) > 0 \\\n",
    "                and max_new_extent_count is not None and len(new_extent) > max_new_extent_count:\n",
    "            new_extent_str += '...'\n",
    "    else:\n",
    "        new_extent_str = ''\n",
    "\n",
    "    label = '\\n\\n'.join([new_intent_str, new_extent_str])\n",
    "    return label"
   ]
  },
  {
   "cell_type": "code",
   "execution_count": 20,
   "metadata": {},
   "outputs": [],
   "source": [
    "def draw_decision_poset(\n",
    "    dp, vsl_params, draw_node_indices=False, label_func=None, ax=None,\n",
    "    dx_coefs=(0,0), dy_coefs=(0,0), xlim=None, ylim=None,\n",
    "    nodes_dx=None, nodes_dy=None, nodes_pos=None,\n",
    "    off_axis=True,\n",
    "):    \n",
    "    if ax is None:\n",
    "        fig, ax = plt.subplots()\n",
    "        \n",
    "    nodes_dx = nodes_dx if nodes_dx is not None else {}\n",
    "    nodes_dy = nodes_dy if nodes_dy is not None else {}\n",
    "    nodes_pos = nodes_pos if nodes_pos is not None else {}\n",
    "        \n",
    "    dp_vsl = POSetVisualizer(dp, **vsl_params)\n",
    "    for n_i, pos in nodes_pos.items():\n",
    "        dp_vsl._pos[n_i] = pos\n",
    "    for n_i, dx in nodes_dx.items():\n",
    "        dp_vsl._pos[n_i][0] += dx\n",
    "    for n_i, dy in nodes_dy.items():\n",
    "        dp_vsl._pos[n_i][1] += dy\n",
    "    \n",
    "    \n",
    "    dp_vsl.draw_networkx(\n",
    "        draw_node_indices=draw_node_indices, ax=ax,\n",
    "        label_func=(lambda el_i: label_func(el_i, dp)) if label_func is not None else None,\n",
    "    )\n",
    "    if xlim is None:\n",
    "        xmin, xmax = ax.get_xlim()\n",
    "        dx = xmax-xmin\n",
    "        xmin, xmax = xmin-dx*dx_coefs[0], xmax+dx*dx_coefs[1]\n",
    "    else:\n",
    "        xmin, xmax = xlim\n",
    "    \n",
    "    if ylim is None:\n",
    "        ymin, ymax = ax.get_ylim()\n",
    "        dy = ymax-ymin\n",
    "        ymin, ymax = ymin-dy*dy_coefs[0], ymax+dy*dy_coefs[1]\n",
    "    else:\n",
    "        ymin, ymax = ylim\n",
    "    \n",
    "    ax.set_xlim(xmin, xmax)\n",
    "    ax.set_ylim(ymin, ymax)\n",
    "    if off_axis:\n",
    "        ax.set_axis_off()\n",
    "        \n",
    "    return dp_vsl"
   ]
  },
  {
   "cell_type": "code",
   "execution_count": 21,
   "metadata": {},
   "outputs": [],
   "source": [
    "X = K_X.to_pandas().astype(int)\n",
    "y = K_df['fruit']"
   ]
  },
  {
   "cell_type": "code",
   "execution_count": 22,
   "metadata": {},
   "outputs": [],
   "source": [
    "#premises = [tuple([]), ('not_firm',), ('not_firm', 'not_color_is_white'), ('not_firm','color_is_yellow')]\n",
    "premises = [tuple([]), ('not_firm',), ('not_firm', 'color_is_white'), ('not_firm', 'not_color_is_white'), ('firm',) ]"
   ]
  },
  {
   "cell_type": "code",
   "execution_count": 23,
   "metadata": {},
   "outputs": [],
   "source": [
    "premises1 = [tuple([]), ('not_firm',), ('not_firm', 'color_is_white'), ('not_firm', 'not_color_is_white'), ('firm',) ]\n",
    "premises2 = [tuple([]), ('color_is_green',), ('not_color_is_green',)]\n",
    "\n",
    "DT1 = dts.DecisionTree(premises=premises1, targets=[y[K_X_dich.extension(p)].mean() for p in premises1], leq_premise_func=dts.compare_set_function)\n",
    "DT2 = dts.DecisionTree(premises=premises2, targets=[y[K_X_dich.extension(p)].mean() for p in premises2], leq_premise_func=dts.compare_set_function)"
   ]
  },
  {
   "cell_type": "code",
   "execution_count": null,
   "metadata": {},
   "outputs": [],
   "source": []
  },
  {
   "cell_type": "code",
   "execution_count": null,
   "metadata": {},
   "outputs": [],
   "source": []
  },
  {
   "cell_type": "code",
   "execution_count": 24,
   "metadata": {},
   "outputs": [],
   "source": [
    "DT1 = dts.DecisionTree(premises=premises, targets=[y[K_X_dich.extension(p)].mean() for p in premises], leq_premise_func=dts.compare_set_function)"
   ]
  },
  {
   "cell_type": "code",
   "execution_count": 25,
   "metadata": {},
   "outputs": [],
   "source": [
    "from matplotlib.colors import LinearSegmentedColormap, ListedColormap"
   ]
  },
  {
   "cell_type": "code",
   "execution_count": 26,
   "metadata": {},
   "outputs": [],
   "source": [
    "cmap = ListedColormap(['lightgrey', 'darkblue'])"
   ]
  },
  {
   "cell_type": "code",
   "execution_count": 27,
   "metadata": {},
   "outputs": [],
   "source": [
    "cmap = LinearSegmentedColormap('GreyBu', {\n",
    "    'red':  [(0, 0, 0.8274509803921568), (1, 0,    0)],\n",
    "    'blue': [(0, 0, 0.8274509803921568), (1, 0.5450980392156862, 0)],\n",
    "    'green':[(0, 0, 0.8274509803921568), (1, 0,    0)]\n",
    "})"
   ]
  },
  {
   "cell_type": "code",
   "execution_count": 28,
   "metadata": {},
   "outputs": [],
   "source": [
    "VSL_PARAMS = {\n",
    "    'node_color': 'lightgrey',\n",
    "    'node_edgecolor': 'lightgrey',\n",
    "    'label_font_size': 14,\n",
    "    'cmap': cmap,\n",
    "    'node_edgecolor': 'white',\n",
    "    'node_linewidth': 2,\n",
    "    'node_size': 500\n",
    "}"
   ]
  },
  {
   "cell_type": "code",
   "execution_count": 29,
   "metadata": {},
   "outputs": [
    {
     "data": {
      "image/png": "[encoded data removed]",
      "text/plain": [
       "<Figure size 720x360 with 1 Axes>"
      ]
     },
     "metadata": {},
     "output_type": "display_data"
    }
   ],
   "source": [
    "fig, ax = plt.subplots()\n",
    "fig.set_size_inches(10, 5)\n",
    "\n",
    "draw_decision_poset(\n",
    "    DT1,\n",
    "    dict(\n",
    "        VSL_PARAMS,\n",
    "        #node_color=['palegreen' if el_i in {4, 2} else 'lightcoral' if el_i in {1, 3} else 'lightgrey' for el_i in range(len(DT1))],\n",
    "        #node_color=[crule.target for crule in DT1],\n",
    "        cmap='RdBu',\n",
    "    ),\n",
    "    draw_node_indices=False,\n",
    "    ax=ax,\n",
    "    label_func=lambda el_i, DP: short_label_func(el_i, DP, draw_emptyset=False, draw_premise_len=False), #label_func,\n",
    "    dy_coefs=(0.1, 0.1), dx_coefs=(0.25,0.25),\n",
    "    #nodes_pos=nodes_poss[ax_i],\n",
    "    off_axis=True,\n",
    "    nodes_dx={3: 0.83+0.4, 2: -0.41}\n",
    ")\n",
    "#ax.set_title('Decision Tree', size=18)\n",
    "plt.tight_layout()\n",
    "plt.savefig('imgs/Decision_tree.eps', dpi=1200)\n",
    "plt.show()"
   ]
  },
  {
   "cell_type": "markdown",
   "metadata": {},
   "source": [
    "## Concepts Tree"
   ]
  },
  {
   "cell_type": "code",
   "execution_count": 30,
   "metadata": {},
   "outputs": [],
   "source": [
    "def concept_label_func(vsl, c_i, max_new_intent_count=5, max_new_extent_count=5, top_labels=None):\n",
    "    if top_labels is None:\n",
    "        new_intent = list(vsl._lattice.get_concept_new_intent(c_i))\n",
    "    else:\n",
    "        new_intent = top_labels[c_i]\n",
    "        \n",
    "    if len(new_intent) > 0:\n",
    "        new_intent = [re.sub(r'[^_]+_is_', '', m) for m in new_intent]\n",
    "        new_intent = [m.replace('_', ' ') for m in new_intent]\n",
    "        new_intent = ['$\\overline{\\mathrm{'+m[4:].replace(' ','\\ ')+'}}$' if m.startswith('not ') else m for m in new_intent]\n",
    "    else:\n",
    "        #new_intent = ['$\\emptyset$']\n",
    "        pass\n",
    "    \n",
    "    if len(new_intent) > 0:\n",
    "        new_intent_str = ', '.join(new_intent[:max_new_intent_count])\n",
    "        if len(new_intent_str) > 0 \\\n",
    "                and max_new_intent_count is not None and len(new_intent) > max_new_intent_count:\n",
    "            new_intent_str += '...'\n",
    "    else:\n",
    "        new_intent_str = ''\n",
    "\n",
    "    new_extent = list(vsl._lattice.get_concept_new_extent(c_i))\n",
    "    new_extent = [g.replace(' ', '\\n') for g in new_extent]\n",
    "    if any(['\\n' in g for g in new_extent]):\n",
    "        new_intent_str = '\\n' + new_intent_str\n",
    "    if len(new_extent) > 0:\n",
    "        new_extent_str = ', '.join(new_extent[:max_new_extent_count])\n",
    "        if len(new_extent_str) > 0 \\\n",
    "                and max_new_extent_count is not None and len(new_extent) > max_new_extent_count:\n",
    "            new_extent_str += '...'\n",
    "    else:\n",
    "        new_extent_str = ''\n",
    "\n",
    "    label = '\\n\\n\\n'.join([new_intent_str, new_extent_str])\n",
    "    return label"
   ]
  },
  {
   "cell_type": "code",
   "execution_count": 31,
   "metadata": {},
   "outputs": [],
   "source": [
    "def label_func_concept(c_i, L, max_int_per_line=None, max_ext_per_line=None, draw_emptyset=True, top_labels=None):\n",
    "    c = L[c_i]\n",
    "    #intent_verb = ', '.join(premise_verb(c.intent))\n",
    "    #extent_verb = ', '.join(premise_verb(c.extent))\n",
    "    \n",
    "    if top_labels is None:\n",
    "        new_intent = L.get_concept_new_intent(c_i)\n",
    "    else:\n",
    "        new_intent = top_labels[c_i]\n",
    "    \n",
    "    intent_verb = ', '.join(premise_verb(new_intent, draw_emptyset=draw_emptyset))\n",
    "    extent_verb = ', '.join(premise_verb(L.get_concept_new_extent(c_i), draw_emptyset=draw_emptyset))\n",
    "    \n",
    "    if max_ext_per_line is not None:\n",
    "        new_ext = extent_verb.split(', ')\n",
    "        new_ext_ = [ ', '.join(new_ext[i*max_ext_per_line:(i+1)*max_ext_per_line]) for i in range(len(new_ext)//max_ext_per_line+1) ]\n",
    "        new_ext_ = [g for g in new_ext_ if g != '']\n",
    "        new_ext = ',\\n'.join(new_ext_)\n",
    "        extent_verb = new_ext.strip(',')\n",
    "        \n",
    "    if max_int_per_line is not None:\n",
    "        new_int = intent_verb.split(', ')\n",
    "        new_int_ = [ ', '.join(new_int[i*max_int_per_line:(i+1)*max_int_per_line]) for i in range(len(new_int)//max_int_per_line+1) ]\n",
    "        new_int_ = [m for m in new_int_ if m != '']\n",
    "        new_int = ',\\n'.join(new_int_)\n",
    "        new_int = new_int.strip(',')\n",
    "        intent_verb = new_int\n",
    "        \n",
    "    intent_nlines, extent_nlines = len(intent_verb.split('\\n')), len(extent_verb.split('\\n'))\n",
    "    max_nlines = max(intent_nlines, extent_nlines)\n",
    "    \n",
    "    intent_verb = '\\n'*(max_nlines-intent_nlines) + intent_verb\n",
    "    extent_verb = extent_verb + '\\n'*(max_nlines-extent_nlines)\n",
    "    \n",
    "    #return '\\n\\n\\n'.join([intent_verb, extent_verb])\n",
    "    return '\\n\\n'.join([intent_verb, extent_verb])+'\\n'"
   ]
  },
  {
   "cell_type": "code",
   "execution_count": 32,
   "metadata": {},
   "outputs": [],
   "source": [
    "def short_label_func_concept(c_i, L, max_new_intent_count=3, max_new_extent_count=3, draw_new_intent_len=True, draw_new_extent_len=True, draw_emptyset=True, top_labels=None):\n",
    "    if top_labels is None:    \n",
    "        new_intent = list(L.get_concept_new_intent(c_i))\n",
    "    else:\n",
    "        new_intent = top_labels[c_i]\n",
    "    new_intent = premise_verb(new_intent, draw_emptyset)\n",
    "    \n",
    "    if len(new_intent) > 0 and not (len(new_intent)==1 and new_intent[0] == ''):\n",
    "        new_intent_str = f\"{len(new_intent)}: \" if draw_new_intent_len else \"\"\n",
    "        new_intent_str += ', '.join(new_intent[:max_new_intent_count])\n",
    "        if len(new_intent_str) > 0 \\\n",
    "                and max_new_intent_count is not None and len(new_intent) > max_new_intent_count:\n",
    "            new_intent_str += '...'\n",
    "    else:\n",
    "        new_intent_str = ''\n",
    "\n",
    "    new_extent = premise_verb(list(L.get_concept_new_extent(c_i)), draw_emptyset)\n",
    "    if len(new_extent) > 0 and not (len(new_extent)==1 and new_extent[0] == ''):\n",
    "        new_extent_str = f\"{len(new_extent)}: \" if draw_new_extent_len else \"\"\n",
    "        new_extent_str += ', '.join(new_extent[:max_new_extent_count])\n",
    "        if len(new_extent_str) > 0 \\\n",
    "                and max_new_extent_count is not None and len(new_extent) > max_new_extent_count:\n",
    "            new_extent_str += '...'\n",
    "    else:\n",
    "        new_extent_str = ''\n",
    "\n",
    "    label = '\\n\\n'.join([new_intent_str, new_extent_str])\n",
    "    return label"
   ]
  },
  {
   "cell_type": "code",
   "execution_count": 33,
   "metadata": {},
   "outputs": [],
   "source": [
    "def draw_concept_lattice(\n",
    "    L, vsl_params, draw_node_indices=False, label_func=None, ax=None,\n",
    "    dx_coefs=(0,0), dy_coefs=(0,0), xlim=None, ylim=None,\n",
    "    nodes_dx=None, nodes_dy=None, nodes_pos=None,\n",
    "    off_axis=True, draw_bottom_concept=True,\n",
    "):    \n",
    "    if ax is None:\n",
    "        fig, ax = plt.subplots()\n",
    "        \n",
    "    nodes_dx = nodes_dx if nodes_dx is not None else {}\n",
    "    nodes_dy = nodes_dy if nodes_dy is not None else {}\n",
    "    nodes_pos = nodes_pos if nodes_pos is not None else {}\n",
    "        \n",
    "    L_vsl = ConceptLatticeVisualizer(L, **vsl_params)\n",
    "    for n_i, pos in nodes_pos.items():\n",
    "        L_vsl._pos[n_i] = pos\n",
    "    for n_i, dx in nodes_dx.items():\n",
    "        L_vsl._pos[n_i][0] += dx\n",
    "    for n_i, dy in nodes_dy.items():\n",
    "        L_vsl._pos[n_i][1] += dy\n",
    "    \n",
    "    \n",
    "    L_vsl.draw_networkx(\n",
    "        draw_node_indices=draw_node_indices, ax=ax,\n",
    "        label_func=(lambda el_i: label_func(el_i, L)) if label_func is not None else None,\n",
    "        draw_bottom_concept=draw_bottom_concept,\n",
    "    )\n",
    "    if xlim is None:\n",
    "        xmin, xmax = ax.get_xlim()\n",
    "        dx = xmax-xmin\n",
    "        xmin, xmax = xmin-dx*dx_coefs[0], xmax+dx*dx_coefs[1]\n",
    "    else:\n",
    "        xmin, xmax = xlim\n",
    "    \n",
    "    if ylim is None:\n",
    "        ymin, ymax = ax.get_ylim()\n",
    "        dy = ymax-ymin\n",
    "        ymin, ymax = ymin-dy*dy_coefs[0], ymax+dy*dy_coefs[1]\n",
    "    else:\n",
    "        ymin, ymax = ylim\n",
    "    \n",
    "    ax.set_xlim(xmin, xmax)\n",
    "    ax.set_ylim(ymin, ymax)\n",
    "    if off_axis:\n",
    "        ax.set_axis_off()\n",
    "        \n",
    "    return L_vsl"
   ]
  },
  {
   "cell_type": "code",
   "execution_count": 34,
   "metadata": {},
   "outputs": [],
   "source": [
    "from importlib import reload"
   ]
  },
  {
   "cell_type": "code",
   "execution_count": 35,
   "metadata": {},
   "outputs": [],
   "source": [
    "dts = reload(dts)"
   ]
  },
  {
   "cell_type": "code",
   "execution_count": 36,
   "metadata": {},
   "outputs": [],
   "source": [
    "L1 = dts.concept_lattice_from_decision_tree(K_X_dich, DT1)"
   ]
  },
  {
   "cell_type": "code",
   "execution_count": 37,
   "metadata": {},
   "outputs": [],
   "source": [
    "ylim = (-0.5, 4.5)"
   ]
  },
  {
   "cell_type": "code",
   "execution_count": 38,
   "metadata": {},
   "outputs": [],
   "source": [
    "levels = [4, 3, 2, 1, 0]"
   ]
  },
  {
   "cell_type": "raw",
   "metadata": {},
   "source": [
    "nodes_pos = {0: (0, 3), 4: (-1, 2), 1: (2, 2), 3: (1, 1), 2: (3, 1), 5: (0, 0) }"
   ]
  },
  {
   "cell_type": "code",
   "execution_count": 39,
   "metadata": {},
   "outputs": [],
   "source": [
    "nodes_pos = {0: (0, levels[0]), 4: (-1, levels[2]), 1: (2, levels[1]), 3: (1, levels[3]), 2: (3, levels[3]), 5: (0, levels[4]) }"
   ]
  },
  {
   "cell_type": "code",
   "execution_count": 40,
   "metadata": {},
   "outputs": [],
   "source": [
    "node_colors_L1 = [cmap(64) if i != 5 else cmap(0) for i in range(len(L1))]"
   ]
  },
  {
   "cell_type": "code",
   "execution_count": 41,
   "metadata": {},
   "outputs": [],
   "source": [
    "xlim = (-2, 4)\n",
    "#ylim = (-0.5, 3.5)"
   ]
  },
  {
   "cell_type": "code",
   "execution_count": 42,
   "metadata": {},
   "outputs": [],
   "source": [
    "top_labels_DT1_full = [drule.premise for drule in DT1]\n",
    "top_labels_DT1 = [tuple(sorted(set(label)-set( top_labels_DT1_full[list(DT1.direct_super_elements(drule_i))[0]] ), key=lambda m: (m.startswith('not_'), m)))\n",
    "                  if len(DT1.super_elements(drule_i))>0 else label for drule_i, label in enumerate(top_labels_DT1_full)]"
   ]
  },
  {
   "cell_type": "code",
   "execution_count": 43,
   "metadata": {},
   "outputs": [
    {
     "data": {
      "text/plain": [
       "[(),\n",
       " ('not_firm', 'not_form_is_cubic'),\n",
       " ('color_is_white',\n",
       "  'form_is_round',\n",
       "  'not_color_is_blue',\n",
       "  'not_color_is_green',\n",
       "  'not_color_is_yellow',\n",
       "  'not_form_is_oval',\n",
       "  'not_smooth'),\n",
       " ('not_color_is_white',),\n",
       " ('firm',\n",
       "  'smooth',\n",
       "  'not_color_is_blue',\n",
       "  'not_color_is_yellow',\n",
       "  'not_form_is_round'),\n",
       " ('color_is_blue',\n",
       "  'color_is_green',\n",
       "  'color_is_yellow',\n",
       "  'form_is_cubic',\n",
       "  'form_is_oval')]"
      ]
     },
     "execution_count": 43,
     "metadata": {},
     "output_type": "execute_result"
    }
   ],
   "source": [
    "top_labels_L1 = []\n",
    "for c_i, c in enumerate(L1):\n",
    "    label = tuple(L1.get_concept_new_intent(c_i))\n",
    "    if c_i < len(top_labels_DT1):\n",
    "        label = list(top_labels_DT1[c_i])+list(set(label)-set(top_labels_DT1[c_i]))\n",
    "        label = tuple(label)\n",
    "    label = tuple(sorted(label, key=lambda m: (m.startswith('not_'), m)))\n",
    "    top_labels_L1.append(label)\n",
    "\n",
    "top_labels_L1"
   ]
  },
  {
   "cell_type": "code",
   "execution_count": 44,
   "metadata": {},
   "outputs": [
    {
     "data": {
      "image/png": "[encoded data removed]",
      "text/plain": [
       "<Figure size 1080x360 with 2 Axes>"
      ]
     },
     "metadata": {},
     "output_type": "display_data"
    }
   ],
   "source": [
    "fig, axes = plt.subplots(1, 2)\n",
    "fig.set_size_inches(15, 5)\n",
    "\n",
    "ax = axes[0]\n",
    "dp_vsl = draw_decision_poset(\n",
    "    DT1,\n",
    "    dict(\n",
    "        VSL_PARAMS,\n",
    "        #node_color=['palegreen' if el_i in {4, 2} else 'lightcoral' if el_i in {1, 3} else 'lightgrey' for el_i in range(len(DT1))],\n",
    "        #node_color=[crule.target for crule in DT1],\n",
    "        node_color = 'lightgrey', #node_colors_L1[:-1],\n",
    "        #cmap = cmap,\n",
    "        #cmap='Blues',\n",
    "        #cmap='RdBu',\n",
    "        node_edgecolor='white',\n",
    "        node_linewidth=2, node_size=500\n",
    "    ),\n",
    "    draw_node_indices=False,\n",
    "    ax=ax,\n",
    "    label_func=lambda el_i, DP: short_label_func(el_i, DP, draw_emptyset=False, draw_premise_len=False, top_labels=top_labels_DT1), #dy_coefs=(0.1, 0.1), dx_coefs=(0.25,0.25),\n",
    "    #nodes_pos=nodes_poss[ax_i],\n",
    "    off_axis=True,\n",
    "    #nodes_dx={3: 0.83+0.4, 2: -0.41}\n",
    "    nodes_pos=nodes_pos,\n",
    "    xlim=xlim, ylim=ylim\n",
    ")\n",
    "\n",
    "ax.set_xlim(*xlim)\n",
    "ax.set_ylim(*ylim)\n",
    "\n",
    "\n",
    "ax = axes[1]\n",
    "draw_concept_lattice(\n",
    "    L1,\n",
    "    dict(\n",
    "        VSL_PARAMS,\n",
    "        node_color='lightgrey',#node_colors_L1\n",
    "    ),\n",
    "    draw_node_indices=False,\n",
    "    ax=ax, xlim=xlim, ylim=ylim, nodes_pos=nodes_pos,\n",
    "    #label_func=lambda c_i, L: short_label_func_concept(c_i, L, 3, 3, draw_emptyset=False, draw_new_extent_len=False, draw_new_intent_len=False),\n",
    "    label_func=lambda c_i, L: short_label_func_concept(\n",
    "        c_i, L, 3, 3, draw_emptyset=False, draw_new_extent_len=False, draw_new_intent_len=False, top_labels=top_labels_L1\n",
    "    ).split('\\n\\n')[0]+'\\n\\n\\n',\n",
    "    draw_bottom_concept=False\n",
    ")\n",
    "\n",
    "axes[0].text(4,1.5,'$\\Rightarrow$', size=32)\n",
    "\n",
    "plt.tight_layout()\n",
    "\n",
    "plt.savefig('imgs/DT_to_L_step0.eps', dpi=1200)\n",
    "plt.show()"
   ]
  },
  {
   "cell_type": "code",
   "execution_count": 45,
   "metadata": {},
   "outputs": [
    {
     "data": {
      "image/png": "[encoded data removed]",
      "text/plain": [
       "<Figure size 1080x360 with 2 Axes>"
      ]
     },
     "metadata": {},
     "output_type": "display_data"
    }
   ],
   "source": [
    "fig, axes = plt.subplots(1, 2)\n",
    "fig.set_size_inches(15, 5)\n",
    "\n",
    "ax = axes[0]\n",
    "dp_vsl = draw_decision_poset(\n",
    "    DT1,\n",
    "    dict(\n",
    "        VSL_PARAMS,\n",
    "        #node_color=['palegreen' if el_i in {4, 2} else 'lightcoral' if el_i in {1, 3} else 'lightgrey' for el_i in range(len(DT1))],\n",
    "        #node_color=[crule.target for crule in DT1],\n",
    "        node_color = 'lightgrey', #node_colors_L1[:-1],\n",
    "        #cmap = cmap,\n",
    "        #cmap='Blues',\n",
    "        #cmap='RdBu',\n",
    "        node_edgecolor='white',\n",
    "        node_linewidth=2, node_size=500\n",
    "    ),\n",
    "    draw_node_indices=False,\n",
    "    ax=ax,\n",
    "    label_func=lambda el_i, DP: short_label_func(el_i, DP, draw_emptyset=False, draw_premise_len=False, top_labels=top_labels_DT1), #dy_coefs=(0.1, 0.1), dx_coefs=(0.25,0.25),\n",
    "    #nodes_pos=nodes_poss[ax_i],\n",
    "    off_axis=True,\n",
    "    #nodes_dx={3: 0.83+0.4, 2: -0.41}\n",
    "    nodes_pos=nodes_pos,\n",
    "    xlim=xlim, ylim=ylim\n",
    ")\n",
    "\n",
    "ax.set_xlim(*xlim)\n",
    "ax.set_ylim(*ylim)\n",
    "\n",
    "\n",
    "ax = axes[1]\n",
    "draw_concept_lattice(\n",
    "    L1,\n",
    "    dict(\n",
    "        VSL_PARAMS,\n",
    "        node_color='lightgrey',#node_colors_L1\n",
    "    ),\n",
    "    ax=ax, xlim=xlim, ylim=ylim, nodes_pos=nodes_pos,\n",
    "    #label_func=lambda c_i, L: short_label_func_concept(c_i, L, 3, 3, draw_emptyset=False, draw_new_extent_len=False, draw_new_intent_len=False),\n",
    "    label_func=lambda c_i, L: short_label_func_concept(c_i, L, 3, 3, draw_emptyset=False, draw_new_extent_len=False, draw_new_intent_len=False, top_labels=top_labels_L1),\n",
    "    draw_bottom_concept=False\n",
    ")\n",
    "\n",
    "axes[0].text(4,1.5,'$\\Rightarrow$', size=32)\n",
    "\n",
    "plt.tight_layout()\n",
    "\n",
    "plt.savefig('imgs/DT_to_L_step1.eps', dpi=1200)\n",
    "plt.show()"
   ]
  },
  {
   "cell_type": "code",
   "execution_count": 46,
   "metadata": {},
   "outputs": [
    {
     "data": {
      "image/png": "[encoded data removed]",
      "text/plain": [
       "<Figure size 1080x360 with 2 Axes>"
      ]
     },
     "metadata": {},
     "output_type": "display_data"
    }
   ],
   "source": [
    "fig, axes = plt.subplots(1, 2)\n",
    "fig.set_size_inches(15, 5)\n",
    "\n",
    "ax = axes[0]\n",
    "dp_vsl = draw_decision_poset(\n",
    "    DT1,\n",
    "    dict(\n",
    "        VSL_PARAMS,\n",
    "        #node_color=['palegreen' if el_i in {4, 2} else 'lightcoral' if el_i in {1, 3} else 'lightgrey' for el_i in range(len(DT1))],\n",
    "        #node_color=[crule.target for crule in DT1],\n",
    "        node_color = 'lightgrey', #node_colors_L1[:-1],\n",
    "        #cmap = cmap,\n",
    "        #cmap='Blues',\n",
    "        #cmap='RdBu',\n",
    "        node_edgecolor='white',\n",
    "        node_linewidth=2, node_size=500\n",
    "    ),\n",
    "    draw_node_indices=False,\n",
    "    ax=ax,\n",
    "    label_func=lambda el_i, DP: short_label_func(el_i, DP, draw_emptyset=False, draw_premise_len=False, top_labels=top_labels_DT1), #dy_coefs=(0.1, 0.1), dx_coefs=(0.25,0.25),\n",
    "    #nodes_pos=nodes_poss[ax_i],\n",
    "    off_axis=True,\n",
    "    #nodes_dx={3: 0.83+0.4, 2: -0.41}\n",
    "    nodes_pos=nodes_pos,\n",
    "    xlim=xlim, ylim=ylim\n",
    ")\n",
    "\n",
    "ax.set_xlim(*xlim)\n",
    "ax.set_ylim(*ylim)\n",
    "\n",
    "\n",
    "ax = axes[1]\n",
    "draw_concept_lattice(\n",
    "    L1,\n",
    "    dict(\n",
    "        VSL_PARAMS,\n",
    "        node_color=['lightgrey' if c_i!=L1.bottom_concept_i else cmap(255) for c_i in range(len(L1))],#'lightgrey',#node_colors_L1\n",
    "    ),\n",
    "    ax=ax, xlim=xlim, ylim=ylim, nodes_pos=nodes_pos,\n",
    "    #label_func=lambda c_i, L: short_label_func_concept(c_i, L, 3, 3, draw_emptyset=False, draw_new_extent_len=False, draw_new_intent_len=False),\n",
    "    label_func=lambda c_i, L: short_label_func_concept(c_i, L, 3, 3, draw_emptyset=False, draw_new_extent_len=False, draw_new_intent_len=False, top_labels=top_labels_L1),\n",
    "    draw_bottom_concept=True\n",
    ")\n",
    "\n",
    "axes[0].text(4,1.5,'$\\Rightarrow$', size=32)\n",
    "\n",
    "plt.tight_layout()\n",
    "\n",
    "plt.savefig('imgs/DT_to_L_step2.eps', dpi=1200)\n",
    "plt.show()"
   ]
  },
  {
   "cell_type": "markdown",
   "metadata": {},
   "source": [
    "## Union of lattices of concepts"
   ]
  },
  {
   "cell_type": "code",
   "execution_count": 47,
   "metadata": {},
   "outputs": [],
   "source": [
    "premises1 = [tuple([]), ('not_firm',), ('not_firm', 'color_is_white'), ('not_firm', 'not_color_is_white'), ('firm',) ]\n",
    "#premises2 = [tuple([]), ('color_is_white',), ('not_color_is_white',)]\n",
    "premises2 = [tuple([]), ('color_is_green',), ('not_color_is_green',)]\n",
    "\n",
    "DT1 = dts.DecisionTree(premises=premises1, targets=[y[K_X_dich.extension(p)].mean() for p in premises1], leq_premise_func=dts.compare_set_function)\n",
    "DT2 = dts.DecisionTree(premises=premises2, targets=[y[K_X_dich.extension(p)].mean() for p in premises2], leq_premise_func=dts.compare_set_function)"
   ]
  },
  {
   "cell_type": "code",
   "execution_count": 48,
   "metadata": {},
   "outputs": [],
   "source": [
    "L1 = dts.concept_lattice_from_decision_tree(K_X_dich, DT1)\n",
    "L2 = dts.concept_lattice_from_decision_tree(K_X_dich, DT2)"
   ]
  },
  {
   "cell_type": "code",
   "execution_count": 49,
   "metadata": {},
   "outputs": [],
   "source": [
    "L_union = L1|L2\n",
    "L_union = ConceptLattice(L_union.elements, subconcepts_dict=L_union.direct_sub_elements_dict)"
   ]
  },
  {
   "cell_type": "code",
   "execution_count": null,
   "metadata": {},
   "outputs": [],
   "source": []
  },
  {
   "cell_type": "code",
   "execution_count": 748,
   "metadata": {},
   "outputs": [],
   "source": [
    "c_i_union_1_map = {c_i: L1.index(c) for c_i, c in enumerate(L_union) if c in L1}\n",
    "c_i_union_2_map = {c_i: L2.index(c) for c_i, c in enumerate(L_union) if c in L2}"
   ]
  },
  {
   "cell_type": "code",
   "execution_count": 749,
   "metadata": {},
   "outputs": [],
   "source": [
    "c_i_1_union_map = {v:k for k,v in c_i_union_1_map.items()}\n",
    "c_i_2_union_map = {v:k for k,v in c_i_union_2_map.items()}"
   ]
  },
  {
   "cell_type": "code",
   "execution_count": 750,
   "metadata": {},
   "outputs": [
    {
     "data": {
      "text/plain": [
       "[0, 1, 2, 3, 4, 5]"
      ]
     },
     "execution_count": 750,
     "metadata": {},
     "output_type": "execute_result"
    }
   ],
   "source": [
    "[c_i_1_union_map[c_i_1] for c_i_1 in range(len(L1))]"
   ]
  },
  {
   "cell_type": "code",
   "execution_count": 751,
   "metadata": {},
   "outputs": [],
   "source": [
    "from copy import deepcopy"
   ]
  },
  {
   "cell_type": "code",
   "execution_count": 752,
   "metadata": {},
   "outputs": [],
   "source": [
    "nodes_pos_L1 = deepcopy(nodes_pos)"
   ]
  },
  {
   "cell_type": "code",
   "execution_count": 753,
   "metadata": {},
   "outputs": [],
   "source": [
    "#nodes_pos_L2 = {0: (0,3), 1: (1, 2), 2:(-1, 2), 3: (0, 0)}\n",
    "nodes_pos_L2 = {0: (0,levels[0]), 1: (1, levels[2]), 2:(-1, levels[1]), 3: (0, levels[4])}"
   ]
  },
  {
   "cell_type": "code",
   "execution_count": 754,
   "metadata": {},
   "outputs": [
    {
     "data": {
      "text/plain": [
       "{0: (0, 4),\n",
       " 1: (-0.75, 3),\n",
       " 7: (0.75, 3),\n",
       " 4: (-2, 2),\n",
       " 6: (2, 2),\n",
       " 3: (-0.75, 1),\n",
       " 2: (0.75, 1),\n",
       " 5: (0, 0)}"
      ]
     },
     "execution_count": 754,
     "metadata": {},
     "output_type": "execute_result"
    }
   ],
   "source": [
    "#xcoords = [-2.25, -0.85, 0, 0.85, 2.25]\n",
    "xcoords = [-2, -0.75, 0, 0.75, 2]\n",
    "nodes_pos_unite = {\n",
    "    0: (xcoords[2], levels[0]),\n",
    "    1: (xcoords[1], levels[1]),\n",
    "    7: (xcoords[3], levels[1]),\n",
    "    4: (xcoords[0], levels[2]),\n",
    "    6: (xcoords[4], levels[2]),\n",
    "    3: (xcoords[1], levels[3]),\n",
    "    2: (xcoords[3], levels[3]),\n",
    "    5: (xcoords[2], levels[4]),\n",
    "}\n",
    "nodes_pos_unite"
   ]
  },
  {
   "cell_type": "code",
   "execution_count": 755,
   "metadata": {},
   "outputs": [],
   "source": [
    "from matplotlib import gridspec"
   ]
  },
  {
   "cell_type": "raw",
   "metadata": {},
   "source": [
    "node_colors = [\n",
    "    [cmap(0) for i in range(len(L1))],\n",
    "    [cmap(255) for i in range(len(L2))],\n",
    "    #[cmap(255) for i in range(len(L_union))],\n",
    "    [cmap(128) if i in c_i_union_1_map and i in c_i_union_2_map else\n",
    "     cmap(0) if i in c_i_union_1_map else\n",
    "     cmap(255)\n",
    "     for i in range(len(L_union))],\n",
    "]"
   ]
  },
  {
   "cell_type": "code",
   "execution_count": 756,
   "metadata": {},
   "outputs": [],
   "source": [
    "node_colors = [\n",
    "    [cmap(64) if i != 5 else cmap(0) for i in range(len(L1))],\n",
    "    [cmap(255) if i != 3 else cmap(0) for i in range(len(L2))],\n",
    "    #[cmap(255) for i in range(len(L_union))],\n",
    "    [cmap(0) if i == 5 else\n",
    "     cmap(164) if i in c_i_union_1_map and i in c_i_union_2_map else\n",
    "     cmap(64) if i in c_i_union_1_map else\n",
    "     cmap(255)\n",
    "     for i in range(len(L_union))],\n",
    "]"
   ]
  },
  {
   "cell_type": "code",
   "execution_count": 757,
   "metadata": {},
   "outputs": [],
   "source": [
    "xlims = [(-2.3, 4.2), (-2, 2), (-2.6, 2.9)]"
   ]
  },
  {
   "cell_type": "code",
   "execution_count": 758,
   "metadata": {},
   "outputs": [],
   "source": [
    "nodes_poses = [nodes_pos_L1, nodes_pos_L2, nodes_pos_unite]"
   ]
  },
  {
   "cell_type": "code",
   "execution_count": 759,
   "metadata": {},
   "outputs": [
    {
     "data": {
      "image/png": "[encoded data removed]",
      "text/plain": [
       "<Figure size 1080x360 with 3 Axes>"
      ]
     },
     "metadata": {},
     "output_type": "display_data"
    }
   ],
   "source": [
    "fig = plt.figure(figsize=(15,5))\n",
    "\n",
    "gs = gridspec.GridSpec(1, 3, width_ratios=[1.5, 1, 2]) \n",
    "axes = [plt.subplot(gs[i]) for i in range(3)]\n",
    "\n",
    "xlim = (-2, 4)\n",
    "#ylim = (-0.5, 3.5)\n",
    "\n",
    "Ls = [L1, L2, L_union]\n",
    "\n",
    "for ax_i, ax in enumerate(axes):\n",
    "    L = Ls[ax_i]\n",
    "    \n",
    "    draw_concept_lattice(\n",
    "        L, \n",
    "        dict(\n",
    "            VSL_PARAMS,\n",
    "            node_color=node_colors[ax_i],\n",
    "        ),\n",
    "        ax=ax, nodes_pos = nodes_poses[ax_i] if ax_i in {0, 1, 2} else None, # xlim=xlim, ylim=ylim, nodes_pos=nodes_pos,\n",
    "        #label_func=lambda c_i, L: short_label_func_concept(c_i, L, 2, 1, draw_emptyset=False, draw_new_extent_len=False, draw_new_intent_len=False),\n",
    "        label_func=lambda c_i, L: '',\n",
    "        draw_node_indices=False,\n",
    "        xlim=xlims[ax_i], ylim=ylim,\n",
    "        off_axis=True,\n",
    "    )\n",
    "\n",
    "axes[0].text(4.35, 2,'$\\cup$', size=32)\n",
    "axes[1].text(2,2,'$=$', size=32)\n",
    "\n",
    "plt.tight_layout()\n",
    "\n",
    "plt.savefig('imgs/L_union.eps', dpi=1200)\n",
    "plt.show()"
   ]
  },
  {
   "cell_type": "markdown",
   "metadata": {},
   "source": [
    "# Prediction by lattice of concepts"
   ]
  },
  {
   "cell_type": "markdown",
   "metadata": {},
   "source": [
    "## Prediction by decision tree"
   ]
  },
  {
   "cell_type": "code",
   "execution_count": 760,
   "metadata": {},
   "outputs": [],
   "source": [
    "def node_colors_traced(DP, x, highlight_bottom=True):\n",
    "    bottom_el, traced_el = DP.premises.trace_element(x, 'down')\n",
    "    node_colors = [cmap(255) if el_i in bottom_el and highlight_bottom else cmap(127) if el_i in traced_el else cmap(0) for el_i in range(len(DP))]\n",
    "    return node_colors"
   ]
  },
  {
   "cell_type": "code",
   "execution_count": 761,
   "metadata": {},
   "outputs": [
    {
     "data": {
      "image/png": "[encoded data removed]",
      "text/plain": [
       "<Figure size 720x360 with 1 Axes>"
      ]
     },
     "metadata": {},
     "output_type": "display_data"
    }
   ],
   "source": [
    "fig, ax = plt.subplots(1, 1)\n",
    "fig.set_size_inches(10, 5)\n",
    "\n",
    "\n",
    "draw_decision_poset(\n",
    "    DT1, \n",
    "    dict(\n",
    "        VSL_PARAMS,\n",
    "        node_color='lightgrey',\n",
    "    ),\n",
    "    nodes_pos=nodes_pos_L1,\n",
    "    label_func=lambda el_i, DT1: short_label_func(el_i, DT1, draw_emptyset=True, draw_premise_len=False, top_labels=top_labels_DT1), #label_func(el_i, DT1, draw_emptyset=True, draw_premise_len=False),\n",
    "    #xlim=xlims[0], ylim=ylim,\n",
    "    xlim=xlims[0], ylim=(ylim[0]+1, ylim[1]),\n",
    "    off_axis=True,\n",
    "    draw_node_indices=False,\n",
    "    ax=ax\n",
    ")\n",
    "plt.tight_layout()\n",
    "\n",
    "plt.savefig('imgs/DT_preds_step0.eps', dpi=1200)\n",
    "plt.show()"
   ]
  },
  {
   "cell_type": "code",
   "execution_count": 762,
   "metadata": {},
   "outputs": [
    {
     "data": {
      "image/png": "[encoded data removed]",
      "text/plain": [
       "<Figure size 720x360 with 1 Axes>"
      ]
     },
     "metadata": {},
     "output_type": "display_data"
    }
   ],
   "source": [
    "fig, ax = plt.subplots(1, 1)\n",
    "fig.set_size_inches(10, 5)\n",
    "\n",
    "\n",
    "draw_decision_poset(\n",
    "    DT1, \n",
    "    dict(\n",
    "        VSL_PARAMS,\n",
    "        node_color=node_colors_traced(DT1, x, highlight_bottom=False)\n",
    "    ),\n",
    "    nodes_pos=nodes_pos_L1,\n",
    "    label_func=lambda el_i, DT1: short_label_func(el_i, DT1, draw_emptyset=True, draw_premise_len=False, top_labels=top_labels_DT1), #label_func(el_i, DT1, draw_emptyset=True, draw_premise_len=False),\n",
    "    #xlim=xlims[0], ylim=ylim,\n",
    "    xlim=xlims[0], ylim=(ylim[0]+1, ylim[1]),\n",
    "    off_axis=True,\n",
    "    draw_node_indices=False,\n",
    "    ax=ax\n",
    ")\n",
    "plt.tight_layout()\n",
    "\n",
    "plt.savefig('imgs/DT_preds_step1.eps', dpi=1200)\n",
    "plt.show()"
   ]
  },
  {
   "cell_type": "code",
   "execution_count": 763,
   "metadata": {},
   "outputs": [
    {
     "data": {
      "image/png": "[encoded data removed]",
      "text/plain": [
       "<Figure size 720x360 with 1 Axes>"
      ]
     },
     "metadata": {},
     "output_type": "display_data"
    }
   ],
   "source": [
    "fig, ax = plt.subplots(1, 1)\n",
    "fig.set_size_inches(10, 5)\n",
    "\n",
    "\n",
    "draw_decision_poset(\n",
    "    DT1, \n",
    "    dict(\n",
    "        VSL_PARAMS,\n",
    "        node_color=node_colors_traced(DT1, x)\n",
    "    ),\n",
    "    nodes_pos=nodes_pos_L1,\n",
    "    label_func=lambda el_i, DT1: short_label_func(el_i, DT1, draw_emptyset=True, draw_premise_len=False, top_labels=top_labels_DT1), #label_func(el_i, DT1, draw_emptyset=True, draw_premise_len=False),\n",
    "    #xlim=xlims[0], ylim=ylim,\n",
    "    xlim=xlims[0], ylim=(ylim[0]+1, ylim[1]),\n",
    "    off_axis=True,\n",
    "    draw_node_indices=False,\n",
    "    ax=ax\n",
    ")\n",
    "plt.tight_layout()\n",
    "\n",
    "plt.savefig('imgs/DT_preds_step2.eps', dpi=1200)\n",
    "plt.show()"
   ]
  },
  {
   "cell_type": "markdown",
   "metadata": {},
   "source": [
    "## Decision Lattice"
   ]
  },
  {
   "cell_type": "code",
   "execution_count": 764,
   "metadata": {},
   "outputs": [],
   "source": [
    "from fcapy.ml.decision_lattice import DecisionLatticeRegressor"
   ]
  },
  {
   "cell_type": "code",
   "execution_count": 765,
   "metadata": {},
   "outputs": [],
   "source": [
    "DL = DecisionLatticeRegressor()\n",
    "DL._lattice = deepcopy(L_union)\n",
    "for c_i, c in enumerate(DL._lattice):\n",
    "    metrics = DL.calc_concept_prediction_metrics(c_i, y)\n",
    "    c.measures = dict(metrics, **c.measures)"
   ]
  },
  {
   "cell_type": "code",
   "execution_count": 766,
   "metadata": {},
   "outputs": [
    {
     "data": {
      "text/plain": [
       "{'mean_y': None}"
      ]
     },
     "execution_count": 766,
     "metadata": {},
     "output_type": "execute_result"
    }
   ],
   "source": [
    "DL._lattice.bottom_concept.measures"
   ]
  },
  {
   "cell_type": "raw",
   "metadata": {},
   "source": [
    "bottom_i = DL._lattice.bottom_concept_i\n",
    "drop_bottom_concept = DL._lattice.bottom_concept.measures['mean_y'] is None\n",
    "\n",
    "DL_poset = dts.DecisionPOSet(\n",
    "    premises=[c.intent for c_i, c in enumerate(DL._lattice) if not (c_i == bottom_i and drop_bottom_concept)],\n",
    "    targets=[c.measures['mean_y'] for c_i, c in enumerate(DL._lattice) if not (c_i == bottom_i and drop_bottom_concept)],\n",
    "    direct_subelements_dict={\n",
    "        k: {v for v in vs if not (v == bottom_i and drop_bottom_concept)}\n",
    "        for k, vs in DL._lattice.subconcepts_dict.items()\n",
    "        if not (c_i == bottom_i and drop_bottom_concept)\n",
    "    }\n",
    ")"
   ]
  },
  {
   "cell_type": "code",
   "execution_count": 767,
   "metadata": {},
   "outputs": [],
   "source": [
    "dts = reload(dts)"
   ]
  },
  {
   "cell_type": "code",
   "execution_count": 768,
   "metadata": {},
   "outputs": [],
   "source": [
    "bottom_i = DL._lattice.bottom_concept_i\n",
    "drop_bottom_concept = DL._lattice.bottom_concept.measures['mean_y'] is None\n",
    "\n",
    "DL_poset = dts.DecisionPOSet(\n",
    "    premises=[c.intent for c_i, c in enumerate(DL._lattice)],\n",
    "    targets=[c.measures['mean_y'] for c_i, c in enumerate(DL._lattice)],\n",
    "    direct_subelements_dict=deepcopy(DL._lattice.subconcepts_dict),\n",
    "    leq_premise_func=dts.compare_set_function,\n",
    ")\n",
    "\n",
    "if drop_bottom_concept:\n",
    "    del DL_poset[bottom_i]"
   ]
  },
  {
   "cell_type": "code",
   "execution_count": 769,
   "metadata": {},
   "outputs": [],
   "source": [
    "intents = [c.intent for c in L_union]"
   ]
  },
  {
   "cell_type": "code",
   "execution_count": 770,
   "metadata": {},
   "outputs": [],
   "source": [
    "c_i_poset_DL_map = {p_i: intents.index(p) for p_i, p in enumerate(DL_poset.premises)}\n",
    "c_i_DL_poset_map = {v:k for k,v in c_i_poset_DL_map.items()}"
   ]
  },
  {
   "cell_type": "code",
   "execution_count": 771,
   "metadata": {},
   "outputs": [],
   "source": [
    "top_labels_Lunion = [sorted(L_union.get_concept_new_intent(c_i), key=lambda int_: (int_.startswith('not_'), int_)) for c_i, c in enumerate(L_union)]"
   ]
  },
  {
   "cell_type": "code",
   "execution_count": 772,
   "metadata": {},
   "outputs": [],
   "source": [
    "top_labels_DT1_full = [drule.premise for drule in DT1]\n",
    "top_labels_DT1 = [sorted(set(label)-set( top_labels_DT1_full[list(DT1.direct_super_elements(drule_i))[0]] ))\n",
    "                  if len(DT1.super_elements(drule_i))>0 else label for drule_i, label in enumerate(top_labels_DT1_full)]"
   ]
  },
  {
   "cell_type": "code",
   "execution_count": 773,
   "metadata": {},
   "outputs": [],
   "source": [
    "top_labels_DL_poset_all = [drule.premise for drule in DL_poset]\n",
    "top_labels_DL_poset = []\n",
    "for drule_i, drule in enumerate(DL_poset):\n",
    "    p = set(top_labels_DL_poset_all[drule_i])\n",
    "    for dsup_i in DL_poset.direct_super_elements(drule_i):\n",
    "        p -= set(top_labels_DL_poset_all[dsup_i])\n",
    "    p = tuple(sorted(p, key=lambda m: (m.startswith('not_'), m)))\n",
    "    top_labels_DL_poset.append(p)"
   ]
  },
  {
   "cell_type": "code",
   "execution_count": 774,
   "metadata": {},
   "outputs": [
    {
     "data": {
      "image/png": "[encoded data removed]",
      "text/plain": [
       "<Figure size 1080x360 with 2 Axes>"
      ]
     },
     "metadata": {},
     "output_type": "display_data"
    }
   ],
   "source": [
    "fig, axes = plt.subplots(1, 2)\n",
    "fig.set_size_inches(15, 5)\n",
    "\n",
    "ax = axes[0]\n",
    "L_vsl = draw_concept_lattice(\n",
    "    L_union,\n",
    "    dict(\n",
    "        VSL_PARAMS,\n",
    "        #node_color=[cmap(64) if c_i != L_union.bottom_concept_i else cmap(0) for c_i in range(len(L_union))]\n",
    "        #node_color=[cmap(0) if c_i != L_union.bottom_concept_i else cmap(255) for c_i in range(len(L_union))]\n",
    "        node_color=[cmap(0) for c_i in range(len(L_union))]\n",
    "    ),\n",
    "    ax=ax,\n",
    "    nodes_pos=nodes_pos_unite,\n",
    "    xlim=xlims[-1], ylim=ylim,\n",
    "    label_func=lambda c_i, L_union: short_label_func_concept(\n",
    "        c_i, L_union, 2, 1, draw_emptyset=False, draw_new_extent_len=False, draw_new_intent_len=False,top_labels=top_labels_Lunion),\n",
    "    off_axis=True,\n",
    "    draw_node_indices=False\n",
    ")\n",
    "\n",
    "\n",
    "ax = axes[1]\n",
    "draw_decision_poset(\n",
    "    DL_poset, \n",
    "    dict(\n",
    "        VSL_PARAMS,\n",
    "        #node_color=[cmap(64) for crule_i in range(len(DL_poset))],\n",
    "        node_color=[cmap(0) for crule_i in range(len(DL_poset))],\n",
    "    ),\n",
    "    nodes_pos={c_i_DL_poset_map[k]:v for k,v in nodes_pos_unite.items() if k in c_i_DL_poset_map},\n",
    "    ax=ax,\n",
    "    label_func=lambda c_i, DL_poset: short_label_func(\n",
    "        c_i, DL_poset, max_premise_count=2, draw_emptyset=False, draw_premise_len=False, top_labels=top_labels_DL_poset),\n",
    "    xlim=xlims[-1], ylim=ylim,\n",
    "    off_axis=True,\n",
    "    draw_node_indices=False\n",
    ")\n",
    "\n",
    "axes[0].text(3,1.5,'$\\Rightarrow$', size=32)\n",
    "\n",
    "plt.tight_layout()\n",
    "\n",
    "plt.savefig('imgs/L_to_DL.eps', dpi=1200)\n",
    "plt.show()"
   ]
  },
  {
   "cell_type": "markdown",
   "metadata": {},
   "source": [
    "## Prediction by decision lattice"
   ]
  },
  {
   "cell_type": "code",
   "execution_count": 775,
   "metadata": {},
   "outputs": [
    {
     "data": {
      "text/plain": [
       "[3, 5]"
      ]
     },
     "execution_count": 775,
     "metadata": {},
     "output_type": "execute_result"
    }
   ],
   "source": [
    "bottom_els_i, traced_els_i = DL_poset.premises.trace_element(x, 'down')\n",
    "bottom_els_i = list(bottom_els_i)\n",
    "bottom_els_i"
   ]
  },
  {
   "cell_type": "code",
   "execution_count": 776,
   "metadata": {},
   "outputs": [],
   "source": [
    "bottom_els = DL_poset[bottom_els_i]"
   ]
  },
  {
   "cell_type": "code",
   "execution_count": 777,
   "metadata": {},
   "outputs": [],
   "source": [
    "premise_comb = set()\n",
    "for el in bottom_els:\n",
    "    premise_comb |= set(el.premise)\n",
    "premise_comb = tuple(sorted(premise_comb))\n",
    "\n",
    "target_comb = np.mean([el.target for el in bottom_els])\n",
    "\n",
    "crule_comb = dts.ClassificationRule(premise_comb, target_comb)"
   ]
  },
  {
   "cell_type": "code",
   "execution_count": 778,
   "metadata": {},
   "outputs": [],
   "source": [
    "dts = reload(dts)"
   ]
  },
  {
   "cell_type": "code",
   "execution_count": 779,
   "metadata": {},
   "outputs": [],
   "source": [
    "DL_aug = deepcopy(DL_poset)"
   ]
  },
  {
   "cell_type": "code",
   "execution_count": 780,
   "metadata": {},
   "outputs": [],
   "source": [
    "DL_aug.add(crule_comb)"
   ]
  },
  {
   "cell_type": "code",
   "execution_count": 781,
   "metadata": {},
   "outputs": [
    {
     "data": {
      "text/plain": [
       "[-0.75, 0]"
      ]
     },
     "execution_count": 781,
     "metadata": {},
     "output_type": "execute_result"
    }
   ],
   "source": [
    "[nodes_pos_unite[el_i][0] for el_i in bottom_els_i]"
   ]
  },
  {
   "cell_type": "code",
   "execution_count": 782,
   "metadata": {},
   "outputs": [],
   "source": [
    "nodes_pos_aug = {c_i_DL_poset_map[k]:v for k,v in nodes_pos_unite.items() if k in c_i_DL_poset_map}\n",
    "\n",
    "#crule_comb_pos_x = np.mean([nodes_pos_aug[el_i][0] for el_i in bottom_els_i])\n",
    "crule_comb_pos_x = xcoords[3]\n",
    "\n",
    "nodes_pos_aug[len(DL_aug)-1] = (crule_comb_pos_x, levels[4])"
   ]
  },
  {
   "cell_type": "code",
   "execution_count": 783,
   "metadata": {},
   "outputs": [
    {
     "data": {
      "text/plain": [
       "[3, 5]"
      ]
     },
     "execution_count": 783,
     "metadata": {},
     "output_type": "execute_result"
    }
   ],
   "source": [
    "bottom_els_i"
   ]
  },
  {
   "cell_type": "code",
   "execution_count": 784,
   "metadata": {},
   "outputs": [
    {
     "data": {
      "image/png": "[encoded data removed]",
      "text/plain": [
       "<Figure size 720x360 with 1 Axes>"
      ]
     },
     "metadata": {},
     "output_type": "display_data"
    }
   ],
   "source": [
    "fig, ax = plt.subplots(1, 1)\n",
    "fig.set_size_inches(10, 5)\n",
    "\n",
    "draw_decision_poset(\n",
    "    DL_poset, \n",
    "    dict(\n",
    "        VSL_PARAMS,\n",
    "        node_color='lightgrey', #node_colors_traced(DL_poset, x, highlight_bottom=False),\n",
    "    ),\n",
    "    nodes_pos=nodes_pos_aug,\n",
    "    ax=ax,\n",
    "    label_func=lambda c_i, DP: short_label_func(c_i, DP, max_premise_count=2, draw_emptyset=False, draw_premise_len=False),\n",
    "    xlim=xlims[-1], ylim=ylim,\n",
    "    off_axis=True,\n",
    "    draw_node_indices=False\n",
    ")\n",
    "plt.tight_layout()\n",
    "\n",
    "plt.savefig('imgs/DL_preds_step0.eps', dpi=1200)\n",
    "plt.show()"
   ]
  },
  {
   "cell_type": "code",
   "execution_count": 785,
   "metadata": {},
   "outputs": [
    {
     "data": {
      "image/png": "[encoded data removed]",
      "text/plain": [
       "<Figure size 720x360 with 1 Axes>"
      ]
     },
     "metadata": {},
     "output_type": "display_data"
    }
   ],
   "source": [
    "fig, ax = plt.subplots(1, 1)\n",
    "fig.set_size_inches(10, 5)\n",
    "\n",
    "draw_decision_poset(\n",
    "    DL_poset, \n",
    "    dict(\n",
    "        VSL_PARAMS,\n",
    "        node_color=node_colors_traced(DL_poset, x, highlight_bottom=False),\n",
    "    ),\n",
    "    nodes_pos=nodes_pos_aug,\n",
    "    ax=ax,\n",
    "    label_func=lambda c_i, DP: short_label_func(c_i, DP, max_premise_count=2, draw_emptyset=False, draw_premise_len=False),\n",
    "    xlim=xlims[-1], ylim=ylim,\n",
    "    off_axis=True,\n",
    "    draw_node_indices=False\n",
    ")\n",
    "plt.tight_layout()\n",
    "\n",
    "plt.savefig('imgs/DL_preds_step1.eps', dpi=1200)\n",
    "plt.show()"
   ]
  },
  {
   "cell_type": "code",
   "execution_count": 786,
   "metadata": {},
   "outputs": [
    {
     "data": {
      "image/png": "[encoded data removed]",
      "text/plain": [
       "<Figure size 720x360 with 1 Axes>"
      ]
     },
     "metadata": {},
     "output_type": "display_data"
    }
   ],
   "source": [
    "fig, ax = plt.subplots(1, 1)\n",
    "fig.set_size_inches(10, 5)\n",
    "\n",
    "draw_decision_poset(\n",
    "    DL_poset, \n",
    "    dict(\n",
    "        VSL_PARAMS,\n",
    "        #node_color=node_colors_traced(DL_poset, x)+['orange']\n",
    "        node_color=node_colors_traced(DL_poset, x)#+['white'],\n",
    "        #node_edgecolor=['white']*len(DL_poset)+[cmap(255)]\n",
    "    ),\n",
    "    nodes_pos=nodes_pos_aug,\n",
    "    ax=ax,\n",
    "    label_func=lambda c_i, DP: short_label_func(c_i, DP, max_premise_count=2, draw_emptyset=False, draw_premise_len=False),\n",
    "    xlim=xlims[-1], ylim=ylim,\n",
    "    off_axis=True,\n",
    "    draw_node_indices=False\n",
    ")\n",
    "plt.tight_layout()\n",
    "\n",
    "plt.savefig('imgs/DL_preds_step2.eps', dpi=1200)\n",
    "plt.show()"
   ]
  },
  {
   "cell_type": "code",
   "execution_count": 787,
   "metadata": {},
   "outputs": [
    {
     "data": {
      "image/png": "[encoded data removed]",
      "text/plain": [
       "<Figure size 720x360 with 1 Axes>"
      ]
     },
     "metadata": {},
     "output_type": "display_data"
    }
   ],
   "source": [
    "fig, ax = plt.subplots(1, 1)\n",
    "fig.set_size_inches(10, 5)\n",
    "\n",
    "draw_decision_poset(\n",
    "    DL_aug, \n",
    "    dict(\n",
    "        VSL_PARAMS,\n",
    "        #node_color=node_colors_traced(DL_poset, x)+['orange']\n",
    "        node_color=node_colors_traced(DL_poset, x)+['white'],\n",
    "        node_edgecolor=['white']*len(DL_poset)+[cmap(255)]\n",
    "    ),\n",
    "    nodes_pos=nodes_pos_aug,\n",
    "    ax=ax,\n",
    "    label_func=lambda c_i, DP: short_label_func(c_i, DP, max_premise_count=2, draw_emptyset=False, draw_premise_len=False),\n",
    "    xlim=xlims[-1], ylim=ylim,\n",
    "    off_axis=True,\n",
    "    draw_node_indices=False\n",
    ")\n",
    "plt.tight_layout()\n",
    "\n",
    "plt.savefig('imgs/DL_preds_step3.eps', dpi=1200)\n",
    "plt.show()"
   ]
  },
  {
   "cell_type": "markdown",
   "metadata": {},
   "source": [
    "# Experiments"
   ]
  },
  {
   "cell_type": "markdown",
   "metadata": {},
   "source": [
    "## Time to construct a concept lattice"
   ]
  },
  {
   "cell_type": "markdown",
   "metadata": {},
   "source": [
    "## Classification quality"
   ]
  },
  {
   "cell_type": "code",
   "execution_count": 788,
   "metadata": {},
   "outputs": [],
   "source": [
    "def prepare_result_table_tolatex(res_ds, models_order, ds_type, metric, ascending=False):\n",
    "    train_pivot_ds = res_ds.pivot_table(index='model',columns='ds', values=f'{metric}_{ds_type}')\n",
    "    train_pivot_ds = train_pivot_ds.loc[models_order]\n",
    "    train_pivot_ds = train_pivot_ds.T\n",
    "\n",
    "    train_pivot_ds = train_pivot_ds.round(2)\n",
    "    train_pivot_ds_rank = train_pivot_ds.rank(1, ascending=not ascending)\n",
    "    train_pivot_ds.loc['mean rank'] = train_pivot_ds_rank.mean(0)\n",
    "    train_pivot_ds = train_pivot_ds.round(2)\n",
    "    \n",
    "    return train_pivot_ds"
   ]
  },
  {
   "cell_type": "code",
   "execution_count": 789,
   "metadata": {},
   "outputs": [],
   "source": [
    "def combine_train_test_tables(res_ds, models_order, metric, ascending=False):\n",
    "    cdss = []\n",
    "    for ds_type in ['train', 'test']:\n",
    "        cds = prepare_result_table_tolatex(res_ds, models_order, ds_type, metric, ascending=ascending).T\n",
    "        columns_order = cds.columns\n",
    "        cds.columns = pd.MultiIndex.from_tuples([(f, ds_type) for f in cds.columns])\n",
    "        cdss.append(cds)\n",
    "    cds = pd.concat(cdss, 1)\n",
    "    cds = cds[[(f, ds_type) for f in columns_order for ds_type in ['train', 'test']]]\n",
    "    return cds"
   ]
  },
  {
   "cell_type": "code",
   "execution_count": 790,
   "metadata": {},
   "outputs": [],
   "source": [
    "def prepare_result_table_tolatex_diff(res_ds, models_order, ds_type, metric, ascending=False):\n",
    "    train_pivot_ds = res_ds.pivot_table(index='model',columns='ds', values=f'{metric}_{ds_type}')\n",
    "    train_pivot_ds = train_pivot_ds.loc[models_order]\n",
    "    train_pivot_ds = train_pivot_ds\n",
    "    train_pivot_ds.loc['best'] = train_pivot_ds.max() if ascending else train_pivot_ds.min()\n",
    "    train_pivot_ds.iloc[:-1] = (train_pivot_ds.iloc[:-1]-train_pivot_ds.loc['best'])\n",
    "    train_pivot_ds['mean diff'] = train_pivot_ds.mean(1)\n",
    "    \n",
    "    #train_pivot_ds['mean diff rank'] = train_pivot_ds.drop('best')['mean diff'].rank(ascending=ascending)\n",
    "    train_pivot_ds = train_pivot_ds.round(2)\n",
    "    \n",
    "    train_pivot_ds = train_pivot_ds.T\n",
    "    \n",
    "    return train_pivot_ds"
   ]
  },
  {
   "cell_type": "code",
   "execution_count": 791,
   "metadata": {},
   "outputs": [],
   "source": [
    "def combine_train_test_tables_diff(res_ds, models_order, metric, ascending=False):\n",
    "    cdss = []\n",
    "    for ds_type in ['train', 'test']:\n",
    "        cds = prepare_result_table_tolatex_diff(res_ds, models_order, ds_type, metric, ascending=ascending).T\n",
    "        columns_order = cds.columns\n",
    "        cds.columns = pd.MultiIndex.from_tuples([(f, ds_type) for f in cds.columns])\n",
    "        cdss.append(cds)\n",
    "    #return cdss\n",
    "    cds = pd.concat(cdss, 1)\n",
    "    cds = cds[[(f, ds_type) for f in columns_order for ds_type in ['train', 'test']]]\n",
    "    return cds"
   ]
  },
  {
   "cell_type": "code",
   "execution_count": 792,
   "metadata": {},
   "outputs": [
    {
     "name": "stdout",
     "output_type": "stream",
     "text": [
      "(480, 18)\n"
     ]
    },
    {
     "data": {
      "text/html": [
       "<div>\n",
       "<style scoped>\n",
       "    .dataframe tbody tr th:only-of-type {\n",
       "        vertical-align: middle;\n",
       "    }\n",
       "\n",
       "    .dataframe tbody tr th {\n",
       "        vertical-align: top;\n",
       "    }\n",
       "\n",
       "    .dataframe thead th {\n",
       "        text-align: right;\n",
       "    }\n",
       "</style>\n",
       "<table border=\"1\" class=\"dataframe\">\n",
       "  <thead>\n",
       "    <tr style=\"text-align: right;\">\n",
       "      <th></th>\n",
       "      <th>model</th>\n",
       "      <th>ds</th>\n",
       "      <th>fold_id</th>\n",
       "      <th>train_size</th>\n",
       "      <th>test_size</th>\n",
       "      <th>time</th>\n",
       "      <th>param_random_state</th>\n",
       "      <th>metric_accuracy_train</th>\n",
       "      <th>metric_accuracy_test</th>\n",
       "      <th>metric_f1_train</th>\n",
       "      <th>metric_f1_test</th>\n",
       "      <th>metric_roc_train</th>\n",
       "      <th>metric_roc_test</th>\n",
       "      <th>param_n_estimators</th>\n",
       "      <th>param_max_depth</th>\n",
       "      <th>param_algo</th>\n",
       "      <th>param_algo_params</th>\n",
       "      <th>param_gen_algo</th>\n",
       "    </tr>\n",
       "  </thead>\n",
       "  <tbody>\n",
       "    <tr>\n",
       "      <th>0</th>\n",
       "      <td>DecisionTreeClassifier</td>\n",
       "      <td>adult</td>\n",
       "      <td>0</td>\n",
       "      <td>26048</td>\n",
       "      <td>6513</td>\n",
       "      <td>0.105370</td>\n",
       "      <td>42</td>\n",
       "      <td>0.999578</td>\n",
       "      <td>0.787502</td>\n",
       "      <td>0.999122</td>\n",
       "      <td>0.564780</td>\n",
       "      <td>0.999123</td>\n",
       "      <td>0.713776</td>\n",
       "      <td>NaN</td>\n",
       "      <td>NaN</td>\n",
       "      <td>NaN</td>\n",
       "      <td>NaN</td>\n",
       "      <td>NaN</td>\n",
       "    </tr>\n",
       "    <tr>\n",
       "      <th>1</th>\n",
       "      <td>RandomForestClassifier</td>\n",
       "      <td>adult</td>\n",
       "      <td>0</td>\n",
       "      <td>26048</td>\n",
       "      <td>6513</td>\n",
       "      <td>0.087283</td>\n",
       "      <td>42</td>\n",
       "      <td>0.850392</td>\n",
       "      <td>0.829418</td>\n",
       "      <td>0.634462</td>\n",
       "      <td>0.579326</td>\n",
       "      <td>0.744208</td>\n",
       "      <td>0.712558</td>\n",
       "      <td>5.0</td>\n",
       "      <td>10.0</td>\n",
       "      <td>NaN</td>\n",
       "      <td>NaN</td>\n",
       "      <td>NaN</td>\n",
       "    </tr>\n",
       "    <tr>\n",
       "      <th>2</th>\n",
       "      <td>RandomForestClassifier</td>\n",
       "      <td>adult</td>\n",
       "      <td>0</td>\n",
       "      <td>26048</td>\n",
       "      <td>6513</td>\n",
       "      <td>2.493777</td>\n",
       "      <td>42</td>\n",
       "      <td>0.999539</td>\n",
       "      <td>0.826961</td>\n",
       "      <td>0.999043</td>\n",
       "      <td>0.609629</td>\n",
       "      <td>0.999370</td>\n",
       "      <td>0.735879</td>\n",
       "      <td>NaN</td>\n",
       "      <td>NaN</td>\n",
       "      <td>NaN</td>\n",
       "      <td>NaN</td>\n",
       "      <td>NaN</td>\n",
       "    </tr>\n",
       "    <tr>\n",
       "      <th>3</th>\n",
       "      <td>GradientBoostingClassifier</td>\n",
       "      <td>adult</td>\n",
       "      <td>0</td>\n",
       "      <td>26048</td>\n",
       "      <td>6513</td>\n",
       "      <td>2.102144</td>\n",
       "      <td>42</td>\n",
       "      <td>0.849048</td>\n",
       "      <td>0.838323</td>\n",
       "      <td>0.645957</td>\n",
       "      <td>0.622174</td>\n",
       "      <td>0.754491</td>\n",
       "      <td>0.740548</td>\n",
       "      <td>NaN</td>\n",
       "      <td>NaN</td>\n",
       "      <td>NaN</td>\n",
       "      <td>NaN</td>\n",
       "      <td>NaN</td>\n",
       "    </tr>\n",
       "    <tr>\n",
       "      <th>4</th>\n",
       "      <td>LGBMClassifier</td>\n",
       "      <td>adult</td>\n",
       "      <td>0</td>\n",
       "      <td>26048</td>\n",
       "      <td>6513</td>\n",
       "      <td>308.169476</td>\n",
       "      <td>42</td>\n",
       "      <td>0.865748</td>\n",
       "      <td>0.841701</td>\n",
       "      <td>0.694665</td>\n",
       "      <td>0.641641</td>\n",
       "      <td>0.786789</td>\n",
       "      <td>0.754919</td>\n",
       "      <td>NaN</td>\n",
       "      <td>NaN</td>\n",
       "      <td>NaN</td>\n",
       "      <td>NaN</td>\n",
       "      <td>NaN</td>\n",
       "    </tr>\n",
       "  </tbody>\n",
       "</table>\n",
       "</div>"
      ],
      "text/plain": [
       "                        model     ds  fold_id  train_size  test_size  \\\n",
       "0      DecisionTreeClassifier  adult        0       26048       6513   \n",
       "1      RandomForestClassifier  adult        0       26048       6513   \n",
       "2      RandomForestClassifier  adult        0       26048       6513   \n",
       "3  GradientBoostingClassifier  adult        0       26048       6513   \n",
       "4              LGBMClassifier  adult        0       26048       6513   \n",
       "\n",
       "         time  param_random_state  metric_accuracy_train  \\\n",
       "0    0.105370                  42               0.999578   \n",
       "1    0.087283                  42               0.850392   \n",
       "2    2.493777                  42               0.999539   \n",
       "3    2.102144                  42               0.849048   \n",
       "4  308.169476                  42               0.865748   \n",
       "\n",
       "   metric_accuracy_test  metric_f1_train  metric_f1_test  metric_roc_train  \\\n",
       "0              0.787502         0.999122        0.564780          0.999123   \n",
       "1              0.829418         0.634462        0.579326          0.744208   \n",
       "2              0.826961         0.999043        0.609629          0.999370   \n",
       "3              0.838323         0.645957        0.622174          0.754491   \n",
       "4              0.841701         0.694665        0.641641          0.786789   \n",
       "\n",
       "   metric_roc_test  param_n_estimators  param_max_depth param_algo  \\\n",
       "0         0.713776                 NaN              NaN        NaN   \n",
       "1         0.712558                 5.0             10.0        NaN   \n",
       "2         0.735879                 NaN              NaN        NaN   \n",
       "3         0.740548                 NaN              NaN        NaN   \n",
       "4         0.754919                 NaN              NaN        NaN   \n",
       "\n",
       "  param_algo_params param_gen_algo  \n",
       "0               NaN            NaN  \n",
       "1               NaN            NaN  \n",
       "2               NaN            NaN  \n",
       "3               NaN            NaN  \n",
       "4               NaN            NaN  "
      ]
     },
     "execution_count": 792,
     "metadata": {},
     "output_type": "execute_result"
    }
   ],
   "source": [
    "res_ds = pd.read_csv('evaluation_classif_full.csv', index_col=0)\n",
    "print(res_ds.shape)\n",
    "res_ds.head()"
   ]
  },
  {
   "cell_type": "code",
   "execution_count": 793,
   "metadata": {},
   "outputs": [],
   "source": [
    "import json"
   ]
  },
  {
   "cell_type": "code",
   "execution_count": 794,
   "metadata": {},
   "outputs": [],
   "source": [
    "res_ds['model_base'] = [x.replace('Regressor','').replace('Classifier', '') for x in res_ds['model']]\n",
    "flg = res_ds['param_n_estimators'].isna()\n",
    "res_ds.loc[flg, 'param_n_estimators'] = [\n",
    "    json.loads(x.replace(\"'\", '\"'))['rf_params']['n_estimators']\n",
    "    if x is not None and type(x)==str and 'rf_params' in x else None for x in res_ds.loc[flg, 'param_algo_params']]\n",
    "\n",
    "res_ds['model'] = res_ds['model_base']+'_'+res_ds['param_algo'].fillna('')+'_'+res_ds['param_n_estimators'].fillna('').astype(str)\n",
    "res_ds['model'] = res_ds['model']+'_'+res_ds['param_gen_algo'].replace('approximate','approx.').fillna('')\n",
    "\n",
    "for s_from, s_to in [\n",
    "    ('DecisionTree', 'DT'), ('GradientBoosting', 'GB'), ('CatBoost', \"CB\"),\n",
    "    ('DecisionLattice', 'DL'), ('RandomForest', 'RF'), ('.0','',),\n",
    "    ('__','_')\n",
    "]:\n",
    "    res_ds['model'] = [x.replace(s_from, s_to).strip('_') for x in res_ds['model']]\n",
    "\n",
    "rf_vs_fca_models = ['DL_RF_5','DL_RF_5_approx.','DL_RF_5_exact','RF_5']"
   ]
  },
  {
   "cell_type": "raw",
   "metadata": {},
   "source": [
    "models_order = [\n",
    "    'DL_RF_5', 'DL_RF_5_approx.', 'DL_RF_5_exact',\n",
    "    'DL_RF_10', 'DL_RF_10_approx.',\n",
    "    'DL_Sofia', 'DL_Sofia_approx.', 'DL_Sofia_exact', \n",
    "    'DT','RF_5', 'RF', 'GB', 'LGBM',  'CB',\n",
    "]"
   ]
  },
  {
   "cell_type": "code",
   "execution_count": 795,
   "metadata": {},
   "outputs": [],
   "source": [
    "models_order = [\n",
    "    'DL_RF_5',# 'DL_RF_5_approx.', 'DL_RF_5_exact',\n",
    "    'DL_RF_10',# 'DL_RF_10_approx.',\n",
    "    'DL_Sofia', #'DL_Sofia_approx.', 'DL_Sofia_exact', \n",
    "    'DT','RF_5', 'RF', 'GB', 'LGBM',  'CB',\n",
    "]"
   ]
  },
  {
   "cell_type": "code",
   "execution_count": 796,
   "metadata": {},
   "outputs": [],
   "source": [
    "metric = 'metric_f1'\n",
    "cds = combine_train_test_tables_diff(res_ds, models_order, metric, ascending=True)\n",
    "\n",
    "cds = cds[[( 'mean diff', 'train'), ( 'mean diff',  'test')]]\n",
    "cds.columns = [f[1] for f in cds.columns]"
   ]
  },
  {
   "cell_type": "code",
   "execution_count": 797,
   "metadata": {},
   "outputs": [],
   "source": [
    "cds_best0 = cds.copy()\n",
    "cds_best0.loc['best'] = 0"
   ]
  },
  {
   "cell_type": "code",
   "execution_count": 798,
   "metadata": {},
   "outputs": [],
   "source": [
    "import seaborn as sns"
   ]
  },
  {
   "cell_type": "raw",
   "metadata": {},
   "source": [
    "fig, axes = plt.subplots(1, 2)\n",
    "fig.set_size_inches(15, 5)\n",
    "\n",
    "for ds_part_i, ds_part in enumerate(['train', 'test']):\n",
    "    ax = axes[ds_part_i]\n",
    "\n",
    "    sns.barplot(x=cds_best0[ds_part], y=cds_best0.index, color=cmap(0), ax=ax)\n",
    "    \n",
    "    ax.set_xlim(-1.1, 0.1)\n",
    "    #xticks = np.arange(-1, 0.01, 0.2)\n",
    "    #xticks = []\n",
    "    xticks = [-1, 0]\n",
    "    ax.set_xticks(xticks)\n",
    "    ax.set_xticklabels([f\"{x:.0%}\" for x in xticks])\n",
    "    ax.set_title(f\"{ds_part.capitalize()} data\", loc='left')\n",
    "    ax.set_ylabel('')\n",
    "    ax.set_xlabel('F1 score (\\%) agains the best model')\n",
    "    \n",
    "    yticks = list(cds_best0.index[:-1])+['']\n",
    "    ax.set_yticks(range(len(yticks)-1))\n",
    "    ax.set_yticklabels(yticks)\n",
    "    \n",
    "    for i, val in enumerate(cds_best0[ds_part].values[:-1]):\n",
    "        #ax.text(val if val<-0.05 else val-0.05, i+0.05, f\"{val:.0%}\")\n",
    "        ax.text(val-0.07*len(str(int(abs(val)*100))) , i+0.06, f\"{val:.0%}\")\n",
    "    #ax.text(0.01, len(cds_best0)-1+0.05, f\"best F1 score\\n{cds.loc['best', ds_part]:.0%}\", color=cmap(255))\n",
    "    ax.text(-0.22, len(cds_best0)-1+0.3, f\"best F1 score\\n{cds.loc['best', ds_part]:.0%}\", color=cmap(255))\n",
    "    ax.axvline(0, color=cmap(255))\n",
    "    ax.set_frame_on(False)\n",
    "    ax.axvline(-1, color=cmap(0), linestyle='--')\n",
    "    \n",
    "plt.tight_layout()\n",
    "    \n",
    "plt.savefig('imgs/clf_quality.eps', dpi=1200)\n",
    "    \n",
    "plt.show()"
   ]
  },
  {
   "cell_type": "code",
   "execution_count": 799,
   "metadata": {},
   "outputs": [
    {
     "data": {
      "image/png": "[encoded data removed]",
      "text/plain": [
       "<Figure size 360x360 with 1 Axes>"
      ]
     },
     "metadata": {
      "needs_background": "light"
     },
     "output_type": "display_data"
    }
   ],
   "source": [
    "fig, axes = plt.subplots(1, 1)\n",
    "fig.set_size_inches(5, 5)\n",
    "\n",
    "ds_part = 'test'\n",
    "ax = axes\n",
    "\n",
    "sns.barplot(x=cds_best0[ds_part], y=cds_best0.index, color=cmap(0), ax=ax)\n",
    "\n",
    "ax.set_xlim(-1.1, 0.1)\n",
    "#xticks = np.arange(-1, 0.01, 0.2)\n",
    "#xticks = []\n",
    "xticks = [-1, 0]\n",
    "ax.set_xticks(xticks)\n",
    "ax.set_xticklabels([f\"{x:.0%}\" for x in xticks])\n",
    "ax.set_title(f\"{ds_part.capitalize()} data\", loc='left')\n",
    "ax.set_ylabel('')\n",
    "ax.set_xlabel('F1 score (\\%) agains the best model')\n",
    "\n",
    "yticks = list(cds_best0.index[:-1])+['']\n",
    "ax.set_yticks(range(len(yticks)-1))\n",
    "ax.set_yticklabels(yticks)\n",
    "\n",
    "for i, val in enumerate(cds_best0[ds_part].values[:-1]):\n",
    "    #ax.text(val if val<-0.05 else val-0.05, i+0.05, f\"{val:.0%}\")\n",
    "    ax.text(val-0.01*len(str(int(abs(val)*100))) , i+0.06, f\"{val:.0%}\", horizontalalignment='right')\n",
    "#ax.text(0.01, len(cds_best0)-1+0.05, f\"best F1 score\\n{cds.loc['best', ds_part]:.0%}\", color=cmap(255))\n",
    "ax.text(-0.03, len(cds_best0)-1+0.3, f\"best F1 score\\n{cds.loc['best', ds_part]:.0%}\", color=cmap(255), horizontalalignment='right')\n",
    "ax.axvline(0, color=cmap(255))\n",
    "ax.set_frame_on(False)\n",
    "ax.axvline(-1, color=cmap(0), linestyle='--')\n",
    "    \n",
    "plt.tight_layout()\n",
    "    \n",
    "plt.savefig('imgs/clf_quality_test.eps', dpi=1200)\n",
    "    \n",
    "plt.show()"
   ]
  },
  {
   "cell_type": "markdown",
   "metadata": {},
   "source": [
    "## Regression quality"
   ]
  },
  {
   "cell_type": "code",
   "execution_count": 800,
   "metadata": {},
   "outputs": [
    {
     "name": "stdout",
     "output_type": "stream",
     "text": [
      "(200, 20)\n"
     ]
    },
    {
     "data": {
      "text/html": [
       "<div>\n",
       "<style scoped>\n",
       "    .dataframe tbody tr th:only-of-type {\n",
       "        vertical-align: middle;\n",
       "    }\n",
       "\n",
       "    .dataframe tbody tr th {\n",
       "        vertical-align: top;\n",
       "    }\n",
       "\n",
       "    .dataframe thead th {\n",
       "        text-align: right;\n",
       "    }\n",
       "</style>\n",
       "<table border=\"1\" class=\"dataframe\">\n",
       "  <thead>\n",
       "    <tr style=\"text-align: right;\">\n",
       "      <th></th>\n",
       "      <th>model</th>\n",
       "      <th>ds</th>\n",
       "      <th>fold_id</th>\n",
       "      <th>train_size</th>\n",
       "      <th>test_size</th>\n",
       "      <th>time</th>\n",
       "      <th>param_random_state</th>\n",
       "      <th>metric_mse_train</th>\n",
       "      <th>metric_mse_test</th>\n",
       "      <th>metric_mae_train</th>\n",
       "      <th>metric_mae_test</th>\n",
       "      <th>metric_r2_train</th>\n",
       "      <th>metric_r2_test</th>\n",
       "      <th>param_n_estimators</th>\n",
       "      <th>param_max_depth</th>\n",
       "      <th>param_algo</th>\n",
       "      <th>param_algo_params</th>\n",
       "      <th>param_gen_algo</th>\n",
       "      <th>metric_wape_train</th>\n",
       "      <th>metric_wape_test</th>\n",
       "    </tr>\n",
       "  </thead>\n",
       "  <tbody>\n",
       "    <tr>\n",
       "      <th>0</th>\n",
       "      <td>DecisionTreeRegressor</td>\n",
       "      <td>calhouse</td>\n",
       "      <td>0</td>\n",
       "      <td>16512</td>\n",
       "      <td>4128</td>\n",
       "      <td>0.151587</td>\n",
       "      <td>42</td>\n",
       "      <td>1.051528e-31</td>\n",
       "      <td>0.793655</td>\n",
       "      <td>4.867984e-17</td>\n",
       "      <td>0.623827</td>\n",
       "      <td>1.000000</td>\n",
       "      <td>0.261216</td>\n",
       "      <td>NaN</td>\n",
       "      <td>NaN</td>\n",
       "      <td>NaN</td>\n",
       "      <td>NaN</td>\n",
       "      <td>NaN</td>\n",
       "      <td>2.248564e-17</td>\n",
       "      <td>0.370648</td>\n",
       "    </tr>\n",
       "    <tr>\n",
       "      <th>1</th>\n",
       "      <td>RandomForestRegressor</td>\n",
       "      <td>calhouse</td>\n",
       "      <td>0</td>\n",
       "      <td>16512</td>\n",
       "      <td>4128</td>\n",
       "      <td>0.277177</td>\n",
       "      <td>42</td>\n",
       "      <td>2.019904e-01</td>\n",
       "      <td>0.599036</td>\n",
       "      <td>3.110937e-01</td>\n",
       "      <td>0.580684</td>\n",
       "      <td>0.850314</td>\n",
       "      <td>0.442380</td>\n",
       "      <td>5.0</td>\n",
       "      <td>10.0</td>\n",
       "      <td>NaN</td>\n",
       "      <td>NaN</td>\n",
       "      <td>NaN</td>\n",
       "      <td>1.436969e-01</td>\n",
       "      <td>0.345015</td>\n",
       "    </tr>\n",
       "    <tr>\n",
       "      <th>2</th>\n",
       "      <td>RandomForestRegressor</td>\n",
       "      <td>calhouse</td>\n",
       "      <td>0</td>\n",
       "      <td>16512</td>\n",
       "      <td>4128</td>\n",
       "      <td>9.033681</td>\n",
       "      <td>42</td>\n",
       "      <td>3.465075e-02</td>\n",
       "      <td>0.521694</td>\n",
       "      <td>1.203863e-01</td>\n",
       "      <td>0.543827</td>\n",
       "      <td>0.974322</td>\n",
       "      <td>0.514374</td>\n",
       "      <td>NaN</td>\n",
       "      <td>NaN</td>\n",
       "      <td>NaN</td>\n",
       "      <td>NaN</td>\n",
       "      <td>NaN</td>\n",
       "      <td>5.560749e-02</td>\n",
       "      <td>0.323116</td>\n",
       "    </tr>\n",
       "    <tr>\n",
       "      <th>3</th>\n",
       "      <td>GradientBoostingRegressor</td>\n",
       "      <td>calhouse</td>\n",
       "      <td>0</td>\n",
       "      <td>16512</td>\n",
       "      <td>4128</td>\n",
       "      <td>2.807599</td>\n",
       "      <td>42</td>\n",
       "      <td>2.649648e-01</td>\n",
       "      <td>0.427120</td>\n",
       "      <td>3.613307e-01</td>\n",
       "      <td>0.523329</td>\n",
       "      <td>0.803647</td>\n",
       "      <td>0.602410</td>\n",
       "      <td>NaN</td>\n",
       "      <td>NaN</td>\n",
       "      <td>NaN</td>\n",
       "      <td>NaN</td>\n",
       "      <td>NaN</td>\n",
       "      <td>1.669018e-01</td>\n",
       "      <td>0.310937</td>\n",
       "    </tr>\n",
       "    <tr>\n",
       "      <th>4</th>\n",
       "      <td>LGBMRegressor</td>\n",
       "      <td>calhouse</td>\n",
       "      <td>0</td>\n",
       "      <td>16512</td>\n",
       "      <td>4128</td>\n",
       "      <td>200.734206</td>\n",
       "      <td>42</td>\n",
       "      <td>1.627876e-01</td>\n",
       "      <td>0.370611</td>\n",
       "      <td>2.791399e-01</td>\n",
       "      <td>0.446897</td>\n",
       "      <td>0.879366</td>\n",
       "      <td>0.655012</td>\n",
       "      <td>NaN</td>\n",
       "      <td>NaN</td>\n",
       "      <td>NaN</td>\n",
       "      <td>NaN</td>\n",
       "      <td>NaN</td>\n",
       "      <td>1.289371e-01</td>\n",
       "      <td>0.265525</td>\n",
       "    </tr>\n",
       "  </tbody>\n",
       "</table>\n",
       "</div>"
      ],
      "text/plain": [
       "                       model        ds  fold_id  train_size  test_size  \\\n",
       "0      DecisionTreeRegressor  calhouse        0       16512       4128   \n",
       "1      RandomForestRegressor  calhouse        0       16512       4128   \n",
       "2      RandomForestRegressor  calhouse        0       16512       4128   \n",
       "3  GradientBoostingRegressor  calhouse        0       16512       4128   \n",
       "4              LGBMRegressor  calhouse        0       16512       4128   \n",
       "\n",
       "         time  param_random_state  metric_mse_train  metric_mse_test  \\\n",
       "0    0.151587                  42      1.051528e-31         0.793655   \n",
       "1    0.277177                  42      2.019904e-01         0.599036   \n",
       "2    9.033681                  42      3.465075e-02         0.521694   \n",
       "3    2.807599                  42      2.649648e-01         0.427120   \n",
       "4  200.734206                  42      1.627876e-01         0.370611   \n",
       "\n",
       "   metric_mae_train  metric_mae_test  metric_r2_train  metric_r2_test  \\\n",
       "0      4.867984e-17         0.623827         1.000000        0.261216   \n",
       "1      3.110937e-01         0.580684         0.850314        0.442380   \n",
       "2      1.203863e-01         0.543827         0.974322        0.514374   \n",
       "3      3.613307e-01         0.523329         0.803647        0.602410   \n",
       "4      2.791399e-01         0.446897         0.879366        0.655012   \n",
       "\n",
       "   param_n_estimators  param_max_depth param_algo param_algo_params  \\\n",
       "0                 NaN              NaN        NaN               NaN   \n",
       "1                 5.0             10.0        NaN               NaN   \n",
       "2                 NaN              NaN        NaN               NaN   \n",
       "3                 NaN              NaN        NaN               NaN   \n",
       "4                 NaN              NaN        NaN               NaN   \n",
       "\n",
       "  param_gen_algo  metric_wape_train  metric_wape_test  \n",
       "0            NaN       2.248564e-17          0.370648  \n",
       "1            NaN       1.436969e-01          0.345015  \n",
       "2            NaN       5.560749e-02          0.323116  \n",
       "3            NaN       1.669018e-01          0.310937  \n",
       "4            NaN       1.289371e-01          0.265525  "
      ]
     },
     "execution_count": 800,
     "metadata": {},
     "output_type": "execute_result"
    }
   ],
   "source": [
    "res_ds = pd.read_csv('evaluation_regr_full1.csv', index_col=0)\n",
    "print(res_ds.shape)\n",
    "res_ds.head()"
   ]
  },
  {
   "cell_type": "code",
   "execution_count": 801,
   "metadata": {},
   "outputs": [],
   "source": [
    "import json"
   ]
  },
  {
   "cell_type": "code",
   "execution_count": 802,
   "metadata": {},
   "outputs": [],
   "source": [
    "res_ds['model_base'] = [x.replace('Regressor','').replace('Classifier', '') for x in res_ds['model']]\n",
    "flg = res_ds['param_n_estimators'].isna()\n",
    "res_ds.loc[flg, 'param_n_estimators'] = [\n",
    "    json.loads(x.replace(\"'\", '\"'))['rf_params']['n_estimators']\n",
    "    if x is not None and type(x)==str and 'rf_params' in x else None for x in res_ds.loc[flg, 'param_algo_params']]\n",
    "\n",
    "res_ds['model'] = res_ds['model_base']+'_'+res_ds['param_algo'].fillna('')+'_'+res_ds['param_n_estimators'].fillna('').astype(str)\n",
    "res_ds['model'] = res_ds['model']+'_'+res_ds['param_gen_algo'].replace('approximate','approx.').fillna('')\n",
    "\n",
    "for s_from, s_to in [\n",
    "    ('DecisionTree', 'DT'), ('GradientBoosting', 'GB'), ('CatBoost', \"CB\"),\n",
    "    ('DecisionLattice', 'DL'), ('RandomForest', 'RF'), ('.0','',),\n",
    "    ('__','_')\n",
    "]:\n",
    "    res_ds['model'] = [x.replace(s_from, s_to).strip('_') for x in res_ds['model']]\n",
    "\n",
    "rf_vs_fca_models = ['DL_RF_5','DL_RF_5_approx.','DL_RF_5_exact','RF_5']"
   ]
  },
  {
   "cell_type": "raw",
   "metadata": {},
   "source": [
    "models_order = [\n",
    "    'DL_RF_5', 'DL_RF_5_approx.', 'DL_RF_5_exact',\n",
    "    'DL_RF_10', 'DL_RF_10_approx.',\n",
    "    'DL_Sofia', 'DL_Sofia_approx.', 'DL_Sofia_exact', \n",
    "    'DT','RF_5', 'RF', 'GB', 'LGBM',  'CB',\n",
    "]"
   ]
  },
  {
   "cell_type": "code",
   "execution_count": 803,
   "metadata": {},
   "outputs": [],
   "source": [
    "models_order = [\n",
    "    'DL_RF_5',# 'DL_RF_5_approx.', 'DL_RF_5_exact',\n",
    "    'DL_RF_10',# 'DL_RF_10_approx.',\n",
    "    'DL_Sofia', #'DL_Sofia_approx.', 'DL_Sofia_exact', \n",
    "    'DT','RF_5', 'RF', 'GB', 'LGBM',  'CB',\n",
    "]"
   ]
  },
  {
   "cell_type": "code",
   "execution_count": 804,
   "metadata": {},
   "outputs": [
    {
     "data": {
      "text/plain": [
       "model\n",
       "CB          6.897526e-02\n",
       "DL_RF_10    5.105807e-02\n",
       "DL_RF_5     6.898987e-02\n",
       "DL_Sofia    3.474529e-01\n",
       "DT          6.146964e-18\n",
       "GB          1.250441e-01\n",
       "LGBM        9.225063e-02\n",
       "RF          6.934627e-02\n",
       "RF_5        1.155440e-01\n",
       "Name: metric_wape_train, dtype: float64"
      ]
     },
     "execution_count": 804,
     "metadata": {},
     "output_type": "execute_result"
    }
   ],
   "source": [
    "res_ds[res_ds['model'].isin(models_order)].groupby('model')['metric_wape_train'].mean()"
   ]
  },
  {
   "cell_type": "code",
   "execution_count": 805,
   "metadata": {},
   "outputs": [],
   "source": [
    "metric = 'metric_wape'\n",
    "cds = combine_train_test_tables_diff(res_ds, models_order, metric, ascending=False)\n",
    "\n",
    "cds = cds[[( 'mean diff', 'train'), ( 'mean diff',  'test')]]\n",
    "cds.columns = [f[1] for f in cds.columns]"
   ]
  },
  {
   "cell_type": "code",
   "execution_count": 806,
   "metadata": {},
   "outputs": [],
   "source": [
    "cds_best0 = cds.copy()\n",
    "cds_best0.loc['best'] = 0"
   ]
  },
  {
   "cell_type": "code",
   "execution_count": 807,
   "metadata": {},
   "outputs": [],
   "source": [
    "import seaborn as sns"
   ]
  },
  {
   "cell_type": "raw",
   "metadata": {},
   "source": [
    "fig, axes = plt.subplots(1, 2)\n",
    "fig.set_size_inches(15, 5)\n",
    "for ds_part_i, ds_part in enumerate(['train', 'test']):\n",
    "    ax = axes[ds_part_i]\n",
    "\n",
    "    sns.barplot(x=cds_best0[ds_part], y=cds_best0.index, color=cmap(0), ax=ax)\n",
    "    \n",
    "    ax.set_xlim(0-0.1, 1+0.1)\n",
    "    #xticks = np.arange(-1, 0.01, 0.2)\n",
    "    #xticks = []\n",
    "    xticks = [0, 1]\n",
    "    ax.set_xticks(xticks)\n",
    "    ax.set_xticklabels([f\"{x:.0%}\" for x in xticks])\n",
    "    ax.set_title(f\"{ds_part.capitalize()} data\", loc='left')\n",
    "    ax.set_ylabel('')\n",
    "    ax.set_xlabel('WAPE (\\%) agains the best model')\n",
    "    \n",
    "    yticks = list(cds_best0.index[:-1])+['']\n",
    "    ax.set_yticks(range(len(yticks)-1))\n",
    "    ax.set_yticklabels(yticks)\n",
    "    \n",
    "    for i, val in enumerate(cds_best0[ds_part].values[:-1]):\n",
    "        #ax.text(val if val<-0.05 else val-0.05, i+0.05, f\"{val:.0%}\")\n",
    "        ax.text(val+0.01, i+0.05, f\"{val:.0%}\")\n",
    "    #ax.text(0.01, len(cds_best0)-1+0.05, f\"best WAPE\\n{cds.loc['best', ds_part]:.0%}\", color=cmap(255))\n",
    "    ax.text(0.01, len(cds_best0)-1+0.3, f\"best WAPE\\n{cds.loc['best', ds_part]:.0%}\", color=cmap(255))\n",
    "    ax.axvline(0, color=cmap(255))\n",
    "    ax.axvline(1, color=cmap(0), linestyle='--')\n",
    "    ax.set_frame_on(False)\n",
    "    \n",
    "plt.tight_layout()\n",
    "\n",
    "plt.savefig('imgs/reg_quality.eps', dpi=1200)\n",
    "plt.show()"
   ]
  },
  {
   "cell_type": "code",
   "execution_count": 808,
   "metadata": {},
   "outputs": [
    {
     "data": {
      "image/png": "[encoded data removed]",
      "text/plain": [
       "<Figure size 360x360 with 1 Axes>"
      ]
     },
     "metadata": {
      "needs_background": "light"
     },
     "output_type": "display_data"
    }
   ],
   "source": [
    "fig, axes = plt.subplots(1, 1)\n",
    "fig.set_size_inches(5, 5)\n",
    "\n",
    "ds_part = 'test'\n",
    "ax = axes\n",
    "\n",
    "\n",
    "sns.barplot(x=cds_best0[ds_part], y=cds_best0.index, color=cmap(0), ax=ax)\n",
    "\n",
    "ax.set_xlim(0-0.01, 1+0.1)\n",
    "#xticks = np.arange(-1, 0.01, 0.2)\n",
    "#xticks = []\n",
    "xticks = [0, 1]\n",
    "ax.set_xticks(xticks)\n",
    "ax.set_xticklabels([f\"{x:.0%}\" for x in xticks])\n",
    "ax.set_title(f\"{ds_part.capitalize()} data\", loc='left')\n",
    "ax.set_ylabel('')\n",
    "ax.set_xlabel(r'WAPE (%) agains the best model')\n",
    "\n",
    "yticks = list(cds_best0.index[:-1])+['']\n",
    "ax.set_yticks(range(len(yticks)-1))\n",
    "ax.set_yticklabels(yticks)\n",
    "\n",
    "for i, val in enumerate(cds_best0[ds_part].values[:-1]):\n",
    "    #ax.text(val if val<-0.05 else val-0.05, i+0.05, f\"{val:.0%}\")\n",
    "    ax.text(val+0.01, i+0.05, f\"{val:.0%}\")\n",
    "#ax.text(0.01, len(cds_best0)-1+0.05, f\"best WAPE\\n{cds.loc['best', ds_part]:.0%}\", color=cmap(255))\n",
    "ax.text(0.01, len(cds_best0)-1+0.3, f\"best WAPE\\n{cds.loc['best', ds_part]:.0%}\", color=cmap(255))\n",
    "ax.axvline(0, color=cmap(255))\n",
    "ax.axvline(1, color=cmap(0), linestyle='--')\n",
    "ax.set_frame_on(False)\n",
    "\n",
    "\n",
    "plt.tight_layout()\n",
    "\n",
    "plt.savefig('imgs/reg_quality_test.eps', dpi=1200)\n",
    "plt.show()"
   ]
  }
 ],
 "metadata": {
  "kernelspec": {
   "display_name": "Python 3",
   "language": "python",
   "name": "python3"
  },
  "language_info": {
   "codemirror_mode": {
    "name": "ipython",
    "version": 3
   },
   "file_extension": ".py",
   "mimetype": "text/x-python",
   "name": "python",
   "nbconvert_exporter": "python",
   "pygments_lexer": "ipython3",
   "version": "3.8.3"
  }
 },
 "nbformat": 4,
 "nbformat_minor": 4
}
