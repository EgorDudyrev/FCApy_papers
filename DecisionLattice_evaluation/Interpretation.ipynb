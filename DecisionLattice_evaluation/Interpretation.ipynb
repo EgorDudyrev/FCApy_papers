{
 "cells": [
  {
   "cell_type": "code",
   "execution_count": 1,
   "metadata": {},
   "outputs": [],
   "source": [
    "import numpy as np\n",
    "import pandas as pd"
   ]
  },
  {
   "cell_type": "markdown",
   "metadata": {},
   "source": [
    "# Load the datasets"
   ]
  },
  {
   "cell_type": "code",
   "execution_count": 2,
   "metadata": {},
   "outputs": [],
   "source": [
    "data_dict = {}"
   ]
  },
  {
   "cell_type": "code",
   "execution_count": 3,
   "metadata": {},
   "outputs": [],
   "source": [
    "task = 'regression'"
   ]
  },
  {
   "cell_type": "code",
   "execution_count": 4,
   "metadata": {},
   "outputs": [],
   "source": [
    "from sklearn.datasets import fetch_california_housing\n",
    "data = fetch_california_housing(as_frame=True)\n",
    "\n",
    "ds = data['data']\n",
    "y_feat = data['target_names'][0]\n",
    "ds[y_feat] = data['target']\n",
    "\n",
    "data_dict['calhouse'] = {\n",
    "    'ds': ds,\n",
    "    'train_feats': data['feature_names'],\n",
    "    'cat_feats': [],\n",
    "    'y_feat': y_feat,\n",
    "    'task': task\n",
    "}"
   ]
  },
  {
   "cell_type": "code",
   "execution_count": 5,
   "metadata": {},
   "outputs": [],
   "source": [
    "from sklearn.datasets import load_boston\n",
    "data = load_boston()\n",
    "\n",
    "y_feat = 'price'\n",
    "fs = data['feature_names']\n",
    "ds = pd.DataFrame(data['data'], columns=fs)\n",
    "ds[y_feat] =data['target']\n",
    "\n",
    "data_dict['boston'] = {\n",
    "    'ds': ds,\n",
    "    'train_feats': fs,\n",
    "    'cat_feats': [],\n",
    "    'y_feat': y_feat,\n",
    "    'task': task\n",
    "}"
   ]
  },
  {
   "cell_type": "code",
   "execution_count": 6,
   "metadata": {},
   "outputs": [],
   "source": [
    "from sklearn.datasets import load_diabetes\n",
    "data = load_diabetes(as_frame=True)\n",
    "\n",
    "ds = data['data']\n",
    "y_feat = 'disease'\n",
    "ds[y_feat] = data['target']\n",
    "\n",
    "data_dict['diabetes'] = {\n",
    "    'ds': ds,\n",
    "    'train_feats': data['feature_names'],\n",
    "    'cat_feats': [],\n",
    "    'y_feat': y_feat,\n",
    "    'task': task\n",
    "}"
   ]
  },
  {
   "cell_type": "code",
   "execution_count": 7,
   "metadata": {},
   "outputs": [],
   "source": [
    "task = 'classification'"
   ]
  },
  {
   "cell_type": "code",
   "execution_count": 8,
   "metadata": {},
   "outputs": [
    {
     "name": "stdout",
     "output_type": "stream",
     "text": [
      "2021-02-07 11:57:24 URL:https://archive.ics.uci.edu/ml/machine-learning-databases/adult/adult.data [3974305/3974305] -> \"adult.data\" [1]\r\n"
     ]
    }
   ],
   "source": [
    "!wget https://archive.ics.uci.edu/ml/machine-learning-databases/adult/adult.data -nv\n",
    "adult_ds = pd.read_csv('adult.data', header=None)\n",
    "!rm adult.data\n",
    "fs = ['age','workclass', 'fnlwgt', 'education', 'education-num', 'marital-status', 'occupation',\n",
    "      'relationship', 'race', 'sex', 'capital-gain', 'capital-loss','hours-per-week','native-country',\n",
    "      'y']\n",
    "adult_ds.columns = fs\n",
    "adult_ds['y_bin'] = (adult_ds['y']==' >50K').astype(int)\n",
    "cat_feats = ['workclass','education','marital-status','occupation','relationship','race','sex','native-country']\n",
    "y_feat = 'y_bin'\n",
    "train_feats = ['age','workclass','fnlwgt','education','education-num','marital-status','occupation','relationship','race','sex','capital-loss','native-country']\n",
    "adult_ds.drop(train_feats,1)\n",
    "\n",
    "data_dict['adult'] = {'ds':adult_ds, 'train_feats':train_feats, 'cat_feats':cat_feats, 'y_feat':y_feat, 'task':task}"
   ]
  },
  {
   "cell_type": "code",
   "execution_count": 9,
   "metadata": {},
   "outputs": [
    {
     "name": "stdout",
     "output_type": "stream",
     "text": [
      "2021-02-07 11:57:25 URL:https://raw.githubusercontent.com/EgorDudyrev/FCA_BB_interpret/master/datasets/amazon/train.csv [2037893/2037893] -> \"train.csv\" [1]\r\n"
     ]
    }
   ],
   "source": [
    "!wget https://github.com/EgorDudyrev/FCA_BB_interpret/raw/master/datasets/amazon/train.csv -nv\n",
    "amaz_ds = pd.read_csv('train.csv')\n",
    "!rm train.csv\n",
    "y_feat = 'ACTION'\n",
    "train_feats = ['MGR_ID','ROLE_ROLLUP_1','ROLE_ROLLUP_2','ROLE_DEPTNAME',\n",
    "               'ROLE_TITLE','ROLE_FAMILY_DESC','ROLE_FAMILY','ROLE_CODE']\n",
    "cat_feats = []\n",
    "\n",
    "data_dict['amazon'] = {'ds':amaz_ds, 'train_feats':train_feats, 'cat_feats':cat_feats, 'y_feat':y_feat, 'task':task}"
   ]
  },
  {
   "cell_type": "code",
   "execution_count": 10,
   "metadata": {},
   "outputs": [
    {
     "name": "stdout",
     "output_type": "stream",
     "text": [
      "2021-02-07 11:57:28 URL:https://archive.ics.uci.edu/ml/machine-learning-databases/00222/bank.zip [579043/579043] -> \"bank.zip\" [1]\n",
      "Archive:  bank.zip\n",
      "  inflating: bank-full.csv           \n"
     ]
    }
   ],
   "source": [
    "!wget https://archive.ics.uci.edu/ml/machine-learning-databases/00222/bank.zip -nv\n",
    "!unzip bank.zip bank-full.csv\n",
    "bank_ds = pd.read_csv('bank-full.csv', sep=';')\n",
    "!rm bank-full.csv bank.zip\n",
    "for f in ['default','housing','loan','y']:\n",
    "    bank_ds[f] = (bank_ds[f]=='yes').astype(int)\n",
    "train_feats = ['age','job','marital','education','default','balance',\n",
    "               'housing','loan','contact','day','month','duration','campaign','pdays','previous','poutcome']\n",
    "cat_feats = ['job','marital','education','contact','month','poutcome']\n",
    "y_feat = 'y'\n",
    "data_dict['bank'] = {'ds':bank_ds, 'train_feats':train_feats, 'cat_feats':cat_feats, 'y_feat':y_feat, 'task':task}"
   ]
  },
  {
   "cell_type": "code",
   "execution_count": 11,
   "metadata": {},
   "outputs": [
    {
     "name": "stdout",
     "output_type": "stream",
     "text": [
      "2021-02-07 11:57:30 URL:https://archive.ics.uci.edu/ml/machine-learning-databases/breast-cancer-wisconsin/breast-cancer-wisconsin.data [19889/19889] -> \"breast-cancer-wisconsin.data\" [1]\r\n"
     ]
    }
   ],
   "source": [
    "!wget https://archive.ics.uci.edu/ml/machine-learning-databases/breast-cancer-wisconsin/breast-cancer-wisconsin.data -nv\n",
    "breast_ds = pd.read_csv('breast-cancer-wisconsin.data', header=None)\n",
    "!rm breast-cancer-wisconsin.data\n",
    "fs = ['Sample_code','Clump_Thickness','Uniformity_of_Cell_Size','Uniformity_of_Cell_Shape','Marginal_Adhesion',\n",
    "     'Single_Epithelial_Cell_Size','Bare_Nuclei','Bland_Chromatin','Normal_Nucleoli','Mitoses','Class']\n",
    "breast_ds.columns = fs\n",
    "breast_ds['Bare_Nuclei'] = [int(x) if x!='?' else -1 for x in breast_ds['Bare_Nuclei']]\n",
    "\n",
    "breast_ds['y'] = (breast_ds['Class']-2)//2\n",
    "train_feats = ['Clump_Thickness','Uniformity_of_Cell_Size','Uniformity_of_Cell_Shape','Marginal_Adhesion',\n",
    "     'Single_Epithelial_Cell_Size','Bare_Nuclei','Bland_Chromatin','Normal_Nucleoli','Mitoses',]\n",
    "cat_feats = []\n",
    "y_feat = 'y'\n",
    "data_dict['breast'] = {'ds':breast_ds, 'train_feats':train_feats, 'cat_feats':cat_feats, 'y_feat':y_feat, 'task':task}"
   ]
  },
  {
   "cell_type": "code",
   "execution_count": 12,
   "metadata": {},
   "outputs": [
    {
     "name": "stdout",
     "output_type": "stream",
     "text": [
      "2021-02-07 11:57:31 URL:https://archive.ics.uci.edu/ml/machine-learning-databases/heart-disease/processed.cleveland.data [18461/18461] -> \"processed.cleveland.data\" [1]\n",
      "2021-02-07 11:57:33 URL:https://archive.ics.uci.edu/ml/machine-learning-databases/heart-disease/processed.hungarian.data [10263/10263] -> \"processed.hungarian.data\" [1]\n",
      "2021-02-07 11:57:34 URL:https://archive.ics.uci.edu/ml/machine-learning-databases/heart-disease/processed.switzerland.data [4109/4109] -> \"processed.switzerland.data\" [1]\n",
      "2021-02-07 11:57:35 URL:https://archive.ics.uci.edu/ml/machine-learning-databases/heart-disease/processed.va.data [6737/6737] -> \"processed.va.data\" [1]\n"
     ]
    }
   ],
   "source": [
    "dss = []\n",
    "for x in ['cleveland', 'hungarian', 'switzerland', 'va']:\n",
    "    !wget https://archive.ics.uci.edu/ml/machine-learning-databases/heart-disease/processed.{x}.data -nv\n",
    "    heart_ds = pd.read_csv(f'processed.{x}.data', header=None)\n",
    "    dss.append(heart_ds)\n",
    "    !rm processed.{x}.data\n",
    "heart_ds = pd.concat(dss)\n",
    "del dss\n",
    "heart_ds.index = range(len(heart_ds))\n",
    "fs = ['age', 'sex', 'cp', 'trestbps', 'chol', 'fbs', 'restecg',\n",
    "      'thalach', 'exang', 'oldpeak', 'slope', 'ca', 'thal', 'num']\n",
    "train_feats = ['age','sex','cp','trestbps','chol','fbs','restecg','thalach','exang','oldpeak','slope','ca','thal']\n",
    "cat_feats = []\n",
    "heart_ds.columns = fs\n",
    "for f in ['trestbps', 'chol', 'fbs', 'restecg', 'thalach', 'exang', 'oldpeak',\n",
    "       'slope', 'ca', 'thal']:\n",
    "    heart_ds[f] = [float(x) if x!='?' else -1 for x in heart_ds[f]] \n",
    "heart_ds['has_disease'] = (heart_ds['num']>0).astype(int)\n",
    "y_feat = 'has_disease'\n",
    "data_dict['heart'] = {'ds':heart_ds, 'train_feats':train_feats, 'cat_feats':cat_feats, 'y_feat':y_feat, 'task':task}"
   ]
  },
  {
   "cell_type": "code",
   "execution_count": 13,
   "metadata": {},
   "outputs": [
    {
     "name": "stdout",
     "output_type": "stream",
     "text": [
      "2021-02-07 11:57:39 URL:https://raw.githubusercontent.com/EgorDudyrev/FCA_BB_interpret/master/datasets/kick/training.csv [14487324/14487324] -> \"training.csv\" [1]\r\n"
     ]
    }
   ],
   "source": [
    "!wget https://github.com/EgorDudyrev/FCA_BB_interpret/raw/master/datasets/kick/training.csv -nv\n",
    "kick_ds = pd.read_csv('training.csv')\n",
    "!rm training.csv\n",
    "\n",
    "train_feats = ['Auction', 'VehYear', 'VehicleAge',\n",
    "       'Make', 'Model', 'Trim', 'SubModel', 'Color', 'Transmission',\n",
    "       'WheelTypeID', 'WheelType', 'VehOdo', 'Nationality', 'Size',\n",
    "       'TopThreeAmericanName', 'MMRAcquisitionAuctionAveragePrice',\n",
    "       'MMRAcquisitionAuctionCleanPrice', 'MMRAcquisitionRetailAveragePrice',\n",
    "       'MMRAcquisitonRetailCleanPrice', 'MMRCurrentAuctionAveragePrice',\n",
    "       'MMRCurrentAuctionCleanPrice', 'MMRCurrentRetailAveragePrice',\n",
    "       'MMRCurrentRetailCleanPrice', 'PRIMEUNIT', 'AUCGUART', 'BYRNO',\n",
    "       'VNZIP1', 'VNST', 'VehBCost', 'IsOnlineSale', 'WarrantyCost']\n",
    "cat_feats = ['Auction','VehYear', 'Make', 'Model', 'Trim', 'SubModel', 'Color', 'Transmission',\n",
    "       'WheelType', 'Nationality', 'Size','PRIMEUNIT','AUCGUART',\n",
    "       'TopThreeAmericanName',  'VNST',]\n",
    "y_feat = 'IsBadBuy'\n",
    "\n",
    "kick_ds[cat_feats] = kick_ds[cat_feats].fillna('NONE')\n",
    "kick_ds[[f for f in kick_ds.columns if f not in cat_feats]] = kick_ds.drop(cat_feats,1).fillna(-1)\n",
    "data_dict['kick'] = {'ds':kick_ds, 'train_feats':train_feats, 'cat_feats':cat_feats, 'y_feat':y_feat, 'task':task}"
   ]
  },
  {
   "cell_type": "code",
   "execution_count": 14,
   "metadata": {},
   "outputs": [
    {
     "name": "stdout",
     "output_type": "stream",
     "text": [
      "2021-02-07 11:57:40 URL:http://archive.ics.uci.edu/ml/machine-learning-databases/mammographic-masses/mammographic_masses.data [13450/13450] -> \"mammographic_masses.data\" [1]\r\n"
     ]
    }
   ],
   "source": [
    "!wget http://archive.ics.uci.edu/ml/machine-learning-databases/mammographic-masses/mammographic_masses.data -nv\n",
    "mamm_ds = pd.read_csv('mammographic_masses.data', header=None)\n",
    "!rm mammographic_masses.data\n",
    "fs = ['BI-RADS assessment', 'Age', 'Shape', 'Margin', 'Density','Severity']\n",
    "mamm_ds.columns = fs\n",
    "for f in fs:\n",
    "    mamm_ds[f] = [float(x) if x!='?' else -1 for x in mamm_ds[f]]\n",
    "train_feats = ['BI-RADS assessment','Age','Shape','Margin','Density']\n",
    "y_feat = 'Severity'\n",
    "cat_feats = []\n",
    "\n",
    "data_dict['mammograph'] = {'ds':mamm_ds, 'train_feats':train_feats, 'cat_feats':cat_feats, 'y_feat':y_feat, 'task':task}"
   ]
  },
  {
   "cell_type": "code",
   "execution_count": 15,
   "metadata": {},
   "outputs": [
    {
     "name": "stdout",
     "output_type": "stream",
     "text": [
      "2021-02-07 11:57:41 URL:https://archive.ics.uci.edu/ml/machine-learning-databases/00266/seismic-bumps.arff [141669/141669] -> \"seismic-bumps.arff\" [1]\r\n"
     ]
    }
   ],
   "source": [
    "from scipy.io import arff\n",
    "\n",
    "!wget https://archive.ics.uci.edu/ml/machine-learning-databases/00266/seismic-bumps.arff -nv\n",
    "seism_ds = pd.DataFrame(arff.loadarff('seismic-bumps.arff')[0])\n",
    "!rm seismic-bumps.arff\n",
    "seism_ds['class_bin'] = (seism_ds['class']==b'1').astype(int)\n",
    "train_feats = ['seismic', 'seismoacoustic', 'shift', 'genergy', 'gpuls', 'gdenergy',\n",
    "       'gdpuls', 'ghazard', 'nbumps', 'nbumps2', 'nbumps3', 'nbumps4',\n",
    "       'nbumps5', 'nbumps6', 'nbumps7', 'nbumps89', 'energy', 'maxenergy',]\n",
    "cat_feats = ['seismic','seismoacoustic','shift','ghazard']\n",
    "y_feat = 'class_bin'\n",
    "\n",
    "data_dict['seismic'] = {'ds':seism_ds, 'train_feats':train_feats, 'cat_feats':cat_feats, 'y_feat':y_feat, 'task':task}"
   ]
  },
  {
   "cell_type": "markdown",
   "metadata": {},
   "source": [
    "## Data post-processing"
   ]
  },
  {
   "cell_type": "code",
   "execution_count": 16,
   "metadata": {},
   "outputs": [],
   "source": [
    "from sklearn.preprocessing import LabelEncoder\n",
    "\n",
    "for data_name in data_dict.keys():\n",
    "    ds = data_dict[data_name]['ds']\n",
    "    cat_feats = data_dict[data_name]['cat_feats']\n",
    "    ds[cat_feats] = ds[cat_feats].astype(str)\n",
    "    for f in cat_feats:\n",
    "        ds[f+'_le'] = LabelEncoder().fit_transform(ds[f])\n",
    "    data_dict[data_name]['ds'] = ds\n",
    "    #train_feats_le = [f+('_le' if f in cat_feats else '') for f in train_feats]"
   ]
  },
  {
   "cell_type": "markdown",
   "metadata": {},
   "source": [
    "# Fit the models"
   ]
  },
  {
   "cell_type": "code",
   "execution_count": 17,
   "metadata": {},
   "outputs": [],
   "source": [
    "from sklearn.ensemble import RandomForestRegressor, RandomForestClassifier"
   ]
  },
  {
   "cell_type": "code",
   "execution_count": 18,
   "metadata": {},
   "outputs": [],
   "source": [
    "from fcapy.mvcontext.mvcontext import MVContext\n",
    "from fcapy.ml.decision_lattice import DecisionLatticeRegressor, DecisionLatticeClassifier\n",
    "from fcapy.visualizer import visualizer\n",
    "from fcapy.mvcontext import pattern_structure as PS"
   ]
  },
  {
   "cell_type": "code",
   "execution_count": 19,
   "metadata": {},
   "outputs": [],
   "source": [
    "from tqdm.notebook import tqdm"
   ]
  },
  {
   "cell_type": "code",
   "execution_count": 34,
   "metadata": {},
   "outputs": [],
   "source": [
    "RF_PARAMS = dict(n_estimators=10, random_state=42, max_depth=10)"
   ]
  },
  {
   "cell_type": "code",
   "execution_count": 35,
   "metadata": {},
   "outputs": [
    {
     "data": {
      "application/vnd.jupyter.widget-view+json": {
       "model_id": "91ccd1bf8f614fc19135295d610f0138",
       "version_major": 2,
       "version_minor": 0
      },
      "text/plain": [
       "HBox(children=(FloatProgress(value=0.0, max=11.0), HTML(value='')))"
      ]
     },
     "metadata": {},
     "output_type": "display_data"
    },
    {
     "name": "stdout",
     "output_type": "stream",
     "text": [
      "\n"
     ]
    }
   ],
   "source": [
    "stats = []\n",
    "\n",
    "for data_name, data in tqdm(data_dict.items()):\n",
    "    ds, fs, cat_feats, y_feat, task = data['ds'], data['train_feats'], data['cat_feats'], data['y_feat'], data['task']\n",
    "    fs_le = [str(f if f not in cat_feats else f+'_le') for f in fs]\n",
    "    \n",
    "    cls = RandomForestClassifier if task=='classification' else RandomForestRegressor\n",
    "    rf = cls(**RF_PARAMS)\n",
    "    rf.fit(ds[fs_le], ds[y_feat])\n",
    "    dpath_A = rf.decision_path(ds[fs_le])[0]\n",
    "    \n",
    "    mvctx = MVContext(\n",
    "        data = ds[fs_le].values,\n",
    "        pattern_types={f:PS.IntervalPS for f in fs_le},\n",
    "        attribute_names=[f for f in fs_le],\n",
    "        target = ds[y_feat].values,\n",
    "    )\n",
    "    \n",
    "    cls = DecisionLatticeClassifier if task=='classification' else DecisionLatticeRegressor\n",
    "    dl = cls(\n",
    "        algo='RandomForest',\n",
    "        use_generators=False,\n",
    "        algo_params={'rf_params':RF_PARAMS},\n",
    "        random_state=RF_PARAMS['random_state'],\n",
    "    )\n",
    "\n",
    "    dl.fit(mvctx, use_tqdm=True)\n",
    "    bottom_concepts, traced_concepts = dl.lattice.trace_context(\n",
    "        mvctx, use_object_indices=True, use_generators=False)\n",
    "    \n",
    "    stat = {}\n",
    "    stat['data_name'] = data_name\n",
    "    stat['data_size'] = ds.shape[0]\n",
    "    \n",
    "    stat['RF_size'] = dpath_A.shape[1]\n",
    "    stat['DL_size'] = len(dl.lattice.concepts)-1 # minus bootom/meet concept\n",
    "    stat['RF_pred_size_mean'] = rf.n_estimators\n",
    "    stat['RF_pred_size_max'] = rf.n_estimators\n",
    "    stat['RF_pred_size_min'] = rf.n_estimators\n",
    "    vals = [len(cs) for cs in bottom_concepts.values()]\n",
    "    stat['DL_pred_size_mean'] = np.mean(vals)\n",
    "    stat['DL_pred_size_max'] = np.max(vals)\n",
    "    stat['DL_pred_size_min'] = np.min(vals)\n",
    "    vals = dpath_A.sum(1).flatten().tolist()[0]\n",
    "    stat['RF_trace_size_mean'] = np.mean(vals)\n",
    "    stat['RF_trace_size_max'] = np.max(vals)\n",
    "    stat['RF_trace_size_min'] = np.min(vals)\n",
    "    vals = [len(cs) for cs in traced_concepts.values()]\n",
    "    stat['DL_trace_size_mean'] = np.mean(vals)\n",
    "    stat['DL_trace_size_max'] = np.max(vals)\n",
    "    stat['DL_trace_size_min'] = np.min(vals)\n",
    "    stats.append(stat)\n",
    "    pd.concat([pd.Series(s) for s in stats],1).T.write_csv(f'interp_stat_tmp_{RF_PARAMS[\"n_estimators\"]}.csv')\n",
    "pd.concat([pd.Series(s) for s in stats],1).T.write_csv(f'interp_stat_{RF_PARAMS[\"n_estimators\"]}.csv')\n",
    "!rm interp_stat_tmp_{RF_PARAMS[\"n_estimators\"]}.csv"
   ]
  },
  {
   "cell_type": "markdown",
   "metadata": {},
   "source": [
    "# Analysis"
   ]
  },
  {
   "cell_type": "code",
   "execution_count": 36,
   "metadata": {},
   "outputs": [],
   "source": [
    "import matplotlib.pyplot as plt\n",
    "import seaborn as sns"
   ]
  },
  {
   "cell_type": "code",
   "execution_count": 37,
   "metadata": {},
   "outputs": [],
   "source": [
    "stat_ds = pd.read_csv(f'interp_stat_10.csv', index_col=0)"
   ]
  },
  {
   "cell_type": "code",
   "execution_count": 38,
   "metadata": {},
   "outputs": [
    {
     "data": {
      "image/png": "[encoded data removed]",
      "text/plain": [
       "<Figure size 1080x216 with 3 Axes>"
      ]
     },
     "metadata": {
      "needs_background": "light"
     },
     "output_type": "display_data"
    }
   ],
   "source": [
    "plt.figure(figsize=(15,3))\n",
    "for idx, fs_type in enumerate(['size', 'trace_size_mean', 'pred_size_mean']):\n",
    "    plt.subplot(1,3,idx+1)\n",
    "    \n",
    "    f1, f2 = 'RF_'+fs_type, 'DL_'+fs_type\n",
    "    min_ = min(stat_ds[f1].min(), stat_ds[f2].min())*0.9\n",
    "    max_ = max(stat_ds[f1].max(), stat_ds[f2].max())*1.1\n",
    "    plt.plot((min_, max_),  (min_, max_), linewidth=2, color='grey')\n",
    "\n",
    "    jitter = np.random.normal(scale=(max_-min_)/50, size=len(stat_ds))\n",
    "    \n",
    "    np.random.seed(42)\n",
    "    plt.scatter(\n",
    "        x=stat_ds[f1]+jitter,\n",
    "        y=stat_ds[f2]+jitter,\n",
    "    )\n",
    "\n",
    "    plt.xlim(min_, max_)\n",
    "    plt.ylim(min_, max_)\n",
    "    plt.xlabel('Random Forest')\n",
    "    plt.ylabel('Decision Lattice')\n",
    "    plt.title(fs_type)\n",
    "    \n",
    "plt.show()"
   ]
  },
  {
   "cell_type": "code",
   "execution_count": 74,
   "metadata": {},
   "outputs": [],
   "source": [
    "for f in ['size','trace_size_mean','pred_size_mean']:\n",
    "    stat_ds[f\"{f}_diff\"] = stat_ds[f\"RF_{f}\"]-stat_ds[f\"DL_{f}\"]\n",
    "    stat_ds[f\"{f}_diff_perc\"] = stat_ds[f\"{f}_diff\"]/stat_ds[f\"RF_{f}\"]\n",
    "    stat_ds[f\"{f}_perc\"] = stat_ds[f\"DL_{f}\"]/stat_ds[f\"RF_{f}\"]*100"
   ]
  },
  {
   "cell_type": "code",
   "execution_count": 98,
   "metadata": {},
   "outputs": [],
   "source": [
    "cds = stat_ds[['data_name']+[f_ for f in ['size','trace_size_mean','pred_size_mean']\n",
    "                             for f_ in [f\"RF_{f}\", f\"DL_{f}\", f\"{f}_perc\"]]]\n",
    "cds.columns = pd.MultiIndex.from_tuples([('data_name',)]+[\n",
    "    (f,subf) for f in ['size', 'trace_size_mean','pred_size_mean']\n",
    "     for subf in ['DL','RF','perc']\n",
    "])\n",
    "cds = cds.set_index('data_name')\n",
    "cds.loc['mean'] = cds.mean()\n",
    "cds = cds.round(2)\n",
    "cds.index = [f[0] if type(f) is tuple else f for f in cds.index]"
   ]
  },
  {
   "cell_type": "code",
   "execution_count": 99,
   "metadata": {},
   "outputs": [
    {
     "data": {
      "text/html": [
       "<div>\n",
       "<style scoped>\n",
       "    .dataframe tbody tr th:only-of-type {\n",
       "        vertical-align: middle;\n",
       "    }\n",
       "\n",
       "    .dataframe tbody tr th {\n",
       "        vertical-align: top;\n",
       "    }\n",
       "\n",
       "    .dataframe thead tr th {\n",
       "        text-align: left;\n",
       "    }\n",
       "</style>\n",
       "<table border=\"1\" class=\"dataframe\">\n",
       "  <thead>\n",
       "    <tr>\n",
       "      <th></th>\n",
       "      <th colspan=\"3\" halign=\"left\">size</th>\n",
       "      <th colspan=\"3\" halign=\"left\">trace_size_mean</th>\n",
       "      <th colspan=\"3\" halign=\"left\">pred_size_mean</th>\n",
       "    </tr>\n",
       "    <tr>\n",
       "      <th></th>\n",
       "      <th>DL</th>\n",
       "      <th>RF</th>\n",
       "      <th>perc</th>\n",
       "      <th>DL</th>\n",
       "      <th>RF</th>\n",
       "      <th>perc</th>\n",
       "      <th>DL</th>\n",
       "      <th>RF</th>\n",
       "      <th>perc</th>\n",
       "    </tr>\n",
       "  </thead>\n",
       "  <tbody>\n",
       "    <tr>\n",
       "      <th>calhouse</th>\n",
       "      <td>14376.00</td>\n",
       "      <td>13835.00</td>\n",
       "      <td>96.24</td>\n",
       "      <td>109.85</td>\n",
       "      <td>99.23</td>\n",
       "      <td>90.33</td>\n",
       "      <td>10.0</td>\n",
       "      <td>9.00</td>\n",
       "      <td>89.96</td>\n",
       "    </tr>\n",
       "    <tr>\n",
       "      <th>boston</th>\n",
       "      <td>3596.00</td>\n",
       "      <td>2994.00</td>\n",
       "      <td>83.26</td>\n",
       "      <td>101.00</td>\n",
       "      <td>89.61</td>\n",
       "      <td>88.73</td>\n",
       "      <td>10.0</td>\n",
       "      <td>2.80</td>\n",
       "      <td>28.02</td>\n",
       "    </tr>\n",
       "    <tr>\n",
       "      <th>diabetes</th>\n",
       "      <td>3706.00</td>\n",
       "      <td>3106.00</td>\n",
       "      <td>83.81</td>\n",
       "      <td>99.24</td>\n",
       "      <td>85.87</td>\n",
       "      <td>86.53</td>\n",
       "      <td>10.0</td>\n",
       "      <td>1.90</td>\n",
       "      <td>18.98</td>\n",
       "    </tr>\n",
       "    <tr>\n",
       "      <th>adult</th>\n",
       "      <td>8634.00</td>\n",
       "      <td>8132.00</td>\n",
       "      <td>94.19</td>\n",
       "      <td>107.78</td>\n",
       "      <td>91.52</td>\n",
       "      <td>84.91</td>\n",
       "      <td>10.0</td>\n",
       "      <td>9.36</td>\n",
       "      <td>93.57</td>\n",
       "    </tr>\n",
       "    <tr>\n",
       "      <th>amazon</th>\n",
       "      <td>5850.00</td>\n",
       "      <td>5297.00</td>\n",
       "      <td>90.55</td>\n",
       "      <td>108.11</td>\n",
       "      <td>92.10</td>\n",
       "      <td>85.20</td>\n",
       "      <td>10.0</td>\n",
       "      <td>8.73</td>\n",
       "      <td>87.32</td>\n",
       "    </tr>\n",
       "    <tr>\n",
       "      <th>bank</th>\n",
       "      <td>9334.00</td>\n",
       "      <td>9075.00</td>\n",
       "      <td>97.23</td>\n",
       "      <td>109.25</td>\n",
       "      <td>96.09</td>\n",
       "      <td>87.95</td>\n",
       "      <td>10.0</td>\n",
       "      <td>9.80</td>\n",
       "      <td>97.99</td>\n",
       "    </tr>\n",
       "    <tr>\n",
       "      <th>breast</th>\n",
       "      <td>588.00</td>\n",
       "      <td>536.00</td>\n",
       "      <td>91.16</td>\n",
       "      <td>56.60</td>\n",
       "      <td>38.85</td>\n",
       "      <td>68.64</td>\n",
       "      <td>10.0</td>\n",
       "      <td>6.74</td>\n",
       "      <td>67.37</td>\n",
       "    </tr>\n",
       "    <tr>\n",
       "      <th>heart</th>\n",
       "      <td>2578.00</td>\n",
       "      <td>2248.00</td>\n",
       "      <td>87.20</td>\n",
       "      <td>91.07</td>\n",
       "      <td>71.69</td>\n",
       "      <td>78.72</td>\n",
       "      <td>10.0</td>\n",
       "      <td>7.21</td>\n",
       "      <td>72.11</td>\n",
       "    </tr>\n",
       "    <tr>\n",
       "      <th>kick</th>\n",
       "      <td>8244.00</td>\n",
       "      <td>7557.00</td>\n",
       "      <td>91.67</td>\n",
       "      <td>109.58</td>\n",
       "      <td>95.85</td>\n",
       "      <td>87.47</td>\n",
       "      <td>10.0</td>\n",
       "      <td>9.88</td>\n",
       "      <td>98.76</td>\n",
       "    </tr>\n",
       "    <tr>\n",
       "      <th>mammograph</th>\n",
       "      <td>2250.00</td>\n",
       "      <td>1982.00</td>\n",
       "      <td>88.09</td>\n",
       "      <td>95.29</td>\n",
       "      <td>75.09</td>\n",
       "      <td>78.80</td>\n",
       "      <td>10.0</td>\n",
       "      <td>3.91</td>\n",
       "      <td>39.09</td>\n",
       "    </tr>\n",
       "    <tr>\n",
       "      <th>seismic</th>\n",
       "      <td>2618.00</td>\n",
       "      <td>2309.00</td>\n",
       "      <td>88.20</td>\n",
       "      <td>95.74</td>\n",
       "      <td>79.97</td>\n",
       "      <td>83.53</td>\n",
       "      <td>10.0</td>\n",
       "      <td>8.48</td>\n",
       "      <td>84.84</td>\n",
       "    </tr>\n",
       "    <tr>\n",
       "      <th>mean</th>\n",
       "      <td>5615.82</td>\n",
       "      <td>5188.27</td>\n",
       "      <td>90.14</td>\n",
       "      <td>98.50</td>\n",
       "      <td>83.26</td>\n",
       "      <td>83.71</td>\n",
       "      <td>10.0</td>\n",
       "      <td>7.07</td>\n",
       "      <td>70.73</td>\n",
       "    </tr>\n",
       "  </tbody>\n",
       "</table>\n",
       "</div>"
      ],
      "text/plain": [
       "                size                  trace_size_mean                \\\n",
       "                  DL        RF   perc              DL     RF   perc   \n",
       "calhouse    14376.00  13835.00  96.24          109.85  99.23  90.33   \n",
       "boston       3596.00   2994.00  83.26          101.00  89.61  88.73   \n",
       "diabetes     3706.00   3106.00  83.81           99.24  85.87  86.53   \n",
       "adult        8634.00   8132.00  94.19          107.78  91.52  84.91   \n",
       "amazon       5850.00   5297.00  90.55          108.11  92.10  85.20   \n",
       "bank         9334.00   9075.00  97.23          109.25  96.09  87.95   \n",
       "breast        588.00    536.00  91.16           56.60  38.85  68.64   \n",
       "heart        2578.00   2248.00  87.20           91.07  71.69  78.72   \n",
       "kick         8244.00   7557.00  91.67          109.58  95.85  87.47   \n",
       "mammograph   2250.00   1982.00  88.09           95.29  75.09  78.80   \n",
       "seismic      2618.00   2309.00  88.20           95.74  79.97  83.53   \n",
       "mean         5615.82   5188.27  90.14           98.50  83.26  83.71   \n",
       "\n",
       "           pred_size_mean               \n",
       "                       DL    RF   perc  \n",
       "calhouse             10.0  9.00  89.96  \n",
       "boston               10.0  2.80  28.02  \n",
       "diabetes             10.0  1.90  18.98  \n",
       "adult                10.0  9.36  93.57  \n",
       "amazon               10.0  8.73  87.32  \n",
       "bank                 10.0  9.80  97.99  \n",
       "breast               10.0  6.74  67.37  \n",
       "heart                10.0  7.21  72.11  \n",
       "kick                 10.0  9.88  98.76  \n",
       "mammograph           10.0  3.91  39.09  \n",
       "seismic              10.0  8.48  84.84  \n",
       "mean                 10.0  7.07  70.73  "
      ]
     },
     "execution_count": 99,
     "metadata": {},
     "output_type": "execute_result"
    }
   ],
   "source": [
    "cds"
   ]
  }
 ],
 "metadata": {
  "kernelspec": {
   "display_name": "Python 3",
   "language": "python",
   "name": "python3"
  },
  "language_info": {
   "codemirror_mode": {
    "name": "ipython",
    "version": 3
   },
   "file_extension": ".py",
   "mimetype": "text/x-python",
   "name": "python",
   "nbconvert_exporter": "python",
   "pygments_lexer": "ipython3",
   "version": "3.8.3"
  }
 },
 "nbformat": 4,
 "nbformat_minor": 4
}
